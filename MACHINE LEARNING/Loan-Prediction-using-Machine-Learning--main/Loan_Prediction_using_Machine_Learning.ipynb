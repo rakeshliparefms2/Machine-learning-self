H{
 "cells": [
  {
   "cell_type": "code",
   "execution_count": null,
   "metadata": {
    "id": "8sKWGtTAxIjT"
   },
   "outputs": [],
   "source": [
    "import pandas as pd\n",
    "import numpy as np\n",
    "import matplotlib.pyplot as plt\n",
    "import seaborn as sns"
   ]
  },
  {
   "cell_type": "code",
   "execution_count": null,
   "metadata": {
    "colab": {
     "base_uri": "https://localhost:8080/",
     "height": 195
    },
    "id": "3-eiC9O0x0_r",
    "outputId": "780fe388-fe14-4974-abae-843cd11060ee"
   },
   "outputs": [
    {
     "data": {
      "text/html": [
       "<div>\n",
       "<style scoped>\n",
       "    .dataframe tbody tr th:only-of-type {\n",
       "        vertical-align: middle;\n",
       "    }\n",
       "\n",
       "    .dataframe tbody tr th {\n",
       "        vertical-align: top;\n",
       "    }\n",
       "\n",
       "    .dataframe thead th {\n",
       "        text-align: right;\n",
       "    }\n",
       "</style>\n",
       "<table border=\"1\" class=\"dataframe\">\n",
       "  <thead>\n",
       "    <tr style=\"text-align: right;\">\n",
       "      <th></th>\n",
       "      <th>Loan_ID</th>\n",
       "      <th>Gender</th>\n",
       "      <th>Married</th>\n",
       "      <th>Dependents</th>\n",
       "      <th>Education</th>\n",
       "      <th>Self_Employed</th>\n",
       "      <th>ApplicantIncome</th>\n",
       "      <th>CoapplicantIncome</th>\n",
       "      <th>LoanAmount</th>\n",
       "      <th>Loan_Amount_Term</th>\n",
       "      <th>Credit_History</th>\n",
       "      <th>Property_Area</th>\n",
       "      <th>Loan_Status</th>\n",
       "    </tr>\n",
       "  </thead>\n",
       "  <tbody>\n",
       "    <tr>\n",
       "      <th>0</th>\n",
       "      <td>LP001002</td>\n",
       "      <td>Male</td>\n",
       "      <td>No</td>\n",
       "      <td>0</td>\n",
       "      <td>Graduate</td>\n",
       "      <td>No</td>\n",
       "      <td>5849</td>\n",
       "      <td>0.0</td>\n",
       "      <td>NaN</td>\n",
       "      <td>360.0</td>\n",
       "      <td>1.0</td>\n",
       "      <td>Urban</td>\n",
       "      <td>Y</td>\n",
       "    </tr>\n",
       "    <tr>\n",
       "      <th>1</th>\n",
       "      <td>LP001003</td>\n",
       "      <td>Male</td>\n",
       "      <td>Yes</td>\n",
       "      <td>1</td>\n",
       "      <td>Graduate</td>\n",
       "      <td>No</td>\n",
       "      <td>4583</td>\n",
       "      <td>1508.0</td>\n",
       "      <td>128.0</td>\n",
       "      <td>360.0</td>\n",
       "      <td>1.0</td>\n",
       "      <td>Rural</td>\n",
       "      <td>N</td>\n",
       "    </tr>\n",
       "    <tr>\n",
       "      <th>2</th>\n",
       "      <td>LP001005</td>\n",
       "      <td>Male</td>\n",
       "      <td>Yes</td>\n",
       "      <td>0</td>\n",
       "      <td>Graduate</td>\n",
       "      <td>Yes</td>\n",
       "      <td>3000</td>\n",
       "      <td>0.0</td>\n",
       "      <td>66.0</td>\n",
       "      <td>360.0</td>\n",
       "      <td>1.0</td>\n",
       "      <td>Urban</td>\n",
       "      <td>Y</td>\n",
       "    </tr>\n",
       "    <tr>\n",
       "      <th>3</th>\n",
       "      <td>LP001006</td>\n",
       "      <td>Male</td>\n",
       "      <td>Yes</td>\n",
       "      <td>0</td>\n",
       "      <td>Not Graduate</td>\n",
       "      <td>No</td>\n",
       "      <td>2583</td>\n",
       "      <td>2358.0</td>\n",
       "      <td>120.0</td>\n",
       "      <td>360.0</td>\n",
       "      <td>1.0</td>\n",
       "      <td>Urban</td>\n",
       "      <td>Y</td>\n",
       "    </tr>\n",
       "    <tr>\n",
       "      <th>4</th>\n",
       "      <td>LP001008</td>\n",
       "      <td>Male</td>\n",
       "      <td>No</td>\n",
       "      <td>0</td>\n",
       "      <td>Graduate</td>\n",
       "      <td>No</td>\n",
       "      <td>6000</td>\n",
       "      <td>0.0</td>\n",
       "      <td>141.0</td>\n",
       "      <td>360.0</td>\n",
       "      <td>1.0</td>\n",
       "      <td>Urban</td>\n",
       "      <td>Y</td>\n",
       "    </tr>\n",
       "  </tbody>\n",
       "</table>\n",
       "</div>"
      ],
      "text/plain": [
       "    Loan_ID Gender Married  ... Credit_History Property_Area Loan_Status\n",
       "0  LP001002   Male      No  ...            1.0         Urban           Y\n",
       "1  LP001003   Male     Yes  ...            1.0         Rural           N\n",
       "2  LP001005   Male     Yes  ...            1.0         Urban           Y\n",
       "3  LP001006   Male     Yes  ...            1.0         Urban           Y\n",
       "4  LP001008   Male      No  ...            1.0         Urban           Y\n",
       "\n",
       "[5 rows x 13 columns]"
      ]
     },
     "execution_count": 82,
     "metadata": {
      "tags": []
     },
     "output_type": "execute_result"
    }
   ],
   "source": [
    "df = pd.read_csv('train_u6lujuX_CVtuZ9i.csv')\n",
    "df.head()"
   ]
  },
  {
   "cell_type": "code",
   "execution_count": null,
   "metadata": {
    "colab": {
     "base_uri": "https://localhost:8080/",
     "height": 232
    },
    "id": "q2Fm5QgDG1LA",
    "outputId": "ccf96e08-707d-48a3-9f58-64e9ceee2ac5"
   },
   "outputs": [
    {
     "data": {
      "text/html": [
       "<div>\n",
       "<style scoped>\n",
       "    .dataframe tbody tr th:only-of-type {\n",
       "        vertical-align: middle;\n",
       "    }\n",
       "\n",
       "    .dataframe tbody tr th {\n",
       "        vertical-align: top;\n",
       "    }\n",
       "\n",
       "    .dataframe thead th {\n",
       "        text-align: right;\n",
       "    }\n",
       "</style>\n",
       "<table border=\"1\" class=\"dataframe\">\n",
       "  <thead>\n",
       "    <tr style=\"text-align: right;\">\n",
       "      <th></th>\n",
       "      <th>Loan_ID</th>\n",
       "      <th>Gender</th>\n",
       "      <th>Married</th>\n",
       "      <th>Dependents</th>\n",
       "      <th>Education</th>\n",
       "      <th>Self_Employed</th>\n",
       "      <th>ApplicantIncome</th>\n",
       "      <th>CoapplicantIncome</th>\n",
       "      <th>LoanAmount</th>\n",
       "      <th>Loan_Amount_Term</th>\n",
       "      <th>Credit_History</th>\n",
       "      <th>Property_Area</th>\n",
       "      <th>Loan_Status</th>\n",
       "      <th>Total_Income</th>\n",
       "    </tr>\n",
       "  </thead>\n",
       "  <tbody>\n",
       "    <tr>\n",
       "      <th>0</th>\n",
       "      <td>LP001002</td>\n",
       "      <td>Male</td>\n",
       "      <td>No</td>\n",
       "      <td>0</td>\n",
       "      <td>Graduate</td>\n",
       "      <td>No</td>\n",
       "      <td>5849</td>\n",
       "      <td>0.0</td>\n",
       "      <td>NaN</td>\n",
       "      <td>360.0</td>\n",
       "      <td>1.0</td>\n",
       "      <td>Urban</td>\n",
       "      <td>Y</td>\n",
       "      <td>5849.0</td>\n",
       "    </tr>\n",
       "    <tr>\n",
       "      <th>1</th>\n",
       "      <td>LP001003</td>\n",
       "      <td>Male</td>\n",
       "      <td>Yes</td>\n",
       "      <td>1</td>\n",
       "      <td>Graduate</td>\n",
       "      <td>No</td>\n",
       "      <td>4583</td>\n",
       "      <td>1508.0</td>\n",
       "      <td>128.0</td>\n",
       "      <td>360.0</td>\n",
       "      <td>1.0</td>\n",
       "      <td>Rural</td>\n",
       "      <td>N</td>\n",
       "      <td>6091.0</td>\n",
       "    </tr>\n",
       "    <tr>\n",
       "      <th>2</th>\n",
       "      <td>LP001005</td>\n",
       "      <td>Male</td>\n",
       "      <td>Yes</td>\n",
       "      <td>0</td>\n",
       "      <td>Graduate</td>\n",
       "      <td>Yes</td>\n",
       "      <td>3000</td>\n",
       "      <td>0.0</td>\n",
       "      <td>66.0</td>\n",
       "      <td>360.0</td>\n",
       "      <td>1.0</td>\n",
       "      <td>Urban</td>\n",
       "      <td>Y</td>\n",
       "      <td>3000.0</td>\n",
       "    </tr>\n",
       "    <tr>\n",
       "      <th>3</th>\n",
       "      <td>LP001006</td>\n",
       "      <td>Male</td>\n",
       "      <td>Yes</td>\n",
       "      <td>0</td>\n",
       "      <td>Not Graduate</td>\n",
       "      <td>No</td>\n",
       "      <td>2583</td>\n",
       "      <td>2358.0</td>\n",
       "      <td>120.0</td>\n",
       "      <td>360.0</td>\n",
       "      <td>1.0</td>\n",
       "      <td>Urban</td>\n",
       "      <td>Y</td>\n",
       "      <td>4941.0</td>\n",
       "    </tr>\n",
       "    <tr>\n",
       "      <th>4</th>\n",
       "      <td>LP001008</td>\n",
       "      <td>Male</td>\n",
       "      <td>No</td>\n",
       "      <td>0</td>\n",
       "      <td>Graduate</td>\n",
       "      <td>No</td>\n",
       "      <td>6000</td>\n",
       "      <td>0.0</td>\n",
       "      <td>141.0</td>\n",
       "      <td>360.0</td>\n",
       "      <td>1.0</td>\n",
       "      <td>Urban</td>\n",
       "      <td>Y</td>\n",
       "      <td>6000.0</td>\n",
       "    </tr>\n",
       "  </tbody>\n",
       "</table>\n",
       "</div>"
      ],
      "text/plain": [
       "    Loan_ID Gender Married  ... Property_Area Loan_Status Total_Income\n",
       "0  LP001002   Male      No  ...         Urban           Y       5849.0\n",
       "1  LP001003   Male     Yes  ...         Rural           N       6091.0\n",
       "2  LP001005   Male     Yes  ...         Urban           Y       3000.0\n",
       "3  LP001006   Male     Yes  ...         Urban           Y       4941.0\n",
       "4  LP001008   Male      No  ...         Urban           Y       6000.0\n",
       "\n",
       "[5 rows x 14 columns]"
      ]
     },
     "execution_count": 83,
     "metadata": {
      "tags": []
     },
     "output_type": "execute_result"
    }
   ],
   "source": [
    "# Creating nw attributes\n",
    "df['Total_Income'] = df['ApplicantIncome'] + df['CoapplicantIncome']\n",
    "df.head()"
   ]
  },
  {
   "cell_type": "code",
   "execution_count": null,
   "metadata": {
    "colab": {
     "base_uri": "https://localhost:8080/",
     "height": 284
    },
    "id": "s3--O3ntyMoS",
    "outputId": "3fc9cebf-b6cf-46d3-e484-000163d374c3"
   },
   "outputs": [
    {
     "data": {
      "text/html": [
       "<div>\n",
       "<style scoped>\n",
       "    .dataframe tbody tr th:only-of-type {\n",
       "        vertical-align: middle;\n",
       "    }\n",
       "\n",
       "    .dataframe tbody tr th {\n",
       "        vertical-align: top;\n",
       "    }\n",
       "\n",
       "    .dataframe thead th {\n",
       "        text-align: right;\n",
       "    }\n",
       "</style>\n",
       "<table border=\"1\" class=\"dataframe\">\n",
       "  <thead>\n",
       "    <tr style=\"text-align: right;\">\n",
       "      <th></th>\n",
       "      <th>ApplicantIncome</th>\n",
       "      <th>CoapplicantIncome</th>\n",
       "      <th>LoanAmount</th>\n",
       "      <th>Loan_Amount_Term</th>\n",
       "      <th>Credit_History</th>\n",
       "      <th>Total_Income</th>\n",
       "    </tr>\n",
       "  </thead>\n",
       "  <tbody>\n",
       "    <tr>\n",
       "      <th>count</th>\n",
       "      <td>614.000000</td>\n",
       "      <td>614.000000</td>\n",
       "      <td>592.000000</td>\n",
       "      <td>600.00000</td>\n",
       "      <td>564.000000</td>\n",
       "      <td>614.000000</td>\n",
       "    </tr>\n",
       "    <tr>\n",
       "      <th>mean</th>\n",
       "      <td>5403.459283</td>\n",
       "      <td>1621.245798</td>\n",
       "      <td>146.412162</td>\n",
       "      <td>342.00000</td>\n",
       "      <td>0.842199</td>\n",
       "      <td>7024.705081</td>\n",
       "    </tr>\n",
       "    <tr>\n",
       "      <th>std</th>\n",
       "      <td>6109.041673</td>\n",
       "      <td>2926.248369</td>\n",
       "      <td>85.587325</td>\n",
       "      <td>65.12041</td>\n",
       "      <td>0.364878</td>\n",
       "      <td>6458.663872</td>\n",
       "    </tr>\n",
       "    <tr>\n",
       "      <th>min</th>\n",
       "      <td>150.000000</td>\n",
       "      <td>0.000000</td>\n",
       "      <td>9.000000</td>\n",
       "      <td>12.00000</td>\n",
       "      <td>0.000000</td>\n",
       "      <td>1442.000000</td>\n",
       "    </tr>\n",
       "    <tr>\n",
       "      <th>25%</th>\n",
       "      <td>2877.500000</td>\n",
       "      <td>0.000000</td>\n",
       "      <td>100.000000</td>\n",
       "      <td>360.00000</td>\n",
       "      <td>1.000000</td>\n",
       "      <td>4166.000000</td>\n",
       "    </tr>\n",
       "    <tr>\n",
       "      <th>50%</th>\n",
       "      <td>3812.500000</td>\n",
       "      <td>1188.500000</td>\n",
       "      <td>128.000000</td>\n",
       "      <td>360.00000</td>\n",
       "      <td>1.000000</td>\n",
       "      <td>5416.500000</td>\n",
       "    </tr>\n",
       "    <tr>\n",
       "      <th>75%</th>\n",
       "      <td>5795.000000</td>\n",
       "      <td>2297.250000</td>\n",
       "      <td>168.000000</td>\n",
       "      <td>360.00000</td>\n",
       "      <td>1.000000</td>\n",
       "      <td>7521.750000</td>\n",
       "    </tr>\n",
       "    <tr>\n",
       "      <th>max</th>\n",
       "      <td>81000.000000</td>\n",
       "      <td>41667.000000</td>\n",
       "      <td>700.000000</td>\n",
       "      <td>480.00000</td>\n",
       "      <td>1.000000</td>\n",
       "      <td>81000.000000</td>\n",
       "    </tr>\n",
       "  </tbody>\n",
       "</table>\n",
       "</div>"
      ],
      "text/plain": [
       "       ApplicantIncome  CoapplicantIncome  ...  Credit_History  Total_Income\n",
       "count       614.000000         614.000000  ...      564.000000    614.000000\n",
       "mean       5403.459283        1621.245798  ...        0.842199   7024.705081\n",
       "std        6109.041673        2926.248369  ...        0.364878   6458.663872\n",
       "min         150.000000           0.000000  ...        0.000000   1442.000000\n",
       "25%        2877.500000           0.000000  ...        1.000000   4166.000000\n",
       "50%        3812.500000        1188.500000  ...        1.000000   5416.500000\n",
       "75%        5795.000000        2297.250000  ...        1.000000   7521.750000\n",
       "max       81000.000000       41667.000000  ...        1.000000  81000.000000\n",
       "\n",
       "[8 rows x 6 columns]"
      ]
     },
     "execution_count": 84,
     "metadata": {
      "tags": []
     },
     "output_type": "execute_result"
    }
   ],
   "source": [
    "df.describe()"
   ]
  },
  {
   "cell_type": "code",
   "execution_count": null,
   "metadata": {
    "colab": {
     "base_uri": "https://localhost:8080/"
    },
    "id": "nR0LkUAxya8v",
    "outputId": "5dd3b94c-b68c-4dcd-bba4-3a09b68aa5c0"
   },
   "outputs": [
    {
     "name": "stdout",
     "output_type": "stream",
     "text": [
      "<class 'pandas.core.frame.DataFrame'>\n",
      "RangeIndex: 614 entries, 0 to 613\n",
      "Data columns (total 14 columns):\n",
      " #   Column             Non-Null Count  Dtype  \n",
      "---  ------             --------------  -----  \n",
      " 0   Loan_ID            614 non-null    object \n",
      " 1   Gender             601 non-null    object \n",
      " 2   Married            611 non-null    object \n",
      " 3   Dependents         599 non-null    object \n",
      " 4   Education          614 non-null    object \n",
      " 5   Self_Employed      582 non-null    object \n",
      " 6   ApplicantIncome    614 non-null    int64  \n",
      " 7   CoapplicantIncome  614 non-null    float64\n",
      " 8   LoanAmount         592 non-null    float64\n",
      " 9   Loan_Amount_Term   600 non-null    float64\n",
      " 10  Credit_History     564 non-null    float64\n",
      " 11  Property_Area      614 non-null    object \n",
      " 12  Loan_Status        614 non-null    object \n",
      " 13  Total_Income       614 non-null    float64\n",
      "dtypes: float64(5), int64(1), object(8)\n",
      "memory usage: 67.3+ KB\n"
     ]
    }
   ],
   "source": [
    "df.info()"
   ]
  },
  {
   "cell_type": "code",
   "execution_count": null,
   "metadata": {
    "colab": {
     "base_uri": "https://localhost:8080/"
    },
    "id": "vnDPbAKMy1h0",
    "outputId": "711ba478-2595-4f09-ca8f-504ceb1690ea"
   },
   "outputs": [
    {
     "data": {
      "text/plain": [
       "Loan_ID               0\n",
       "Gender               13\n",
       "Married               3\n",
       "Dependents           15\n",
       "Education             0\n",
       "Self_Employed        32\n",
       "ApplicantIncome       0\n",
       "CoapplicantIncome     0\n",
       "LoanAmount           22\n",
       "Loan_Amount_Term     14\n",
       "Credit_History       50\n",
       "Property_Area         0\n",
       "Loan_Status           0\n",
       "Total_Income          0\n",
       "dtype: int64"
      ]
     },
     "execution_count": 86,
     "metadata": {
      "tags": []
     },
     "output_type": "execute_result"
    }
   ],
   "source": [
    "# finding the null value\n",
    "df.isnull().sum()"
   ]
  },
  {
   "cell_type": "code",
   "execution_count": null,
   "metadata": {
    "id": "cghsmn0qzPkj"
   },
   "outputs": [],
   "source": [
    "df[\"LoanAmount\"] = df[\"LoanAmount\"].fillna(df[\"LoanAmount\"].mean())\n",
    "df[\"Loan_Amount_Term\"] = df[\"Loan_Amount_Term\"].fillna(df[\"Loan_Amount_Term\"].mean())\n",
    "df['Credit_History'] = df['Credit_History'].fillna(df['Credit_History'].mean())\n",
    "df['CoapplicantIncome'] = df['CoapplicantIncome'].fillna(df['CoapplicantIncome'].mean())"
   ]
  },
  {
   "cell_type": "code",
   "execution_count": null,
   "metadata": {
    "colab": {
     "base_uri": "https://localhost:8080/",
     "height": 35
    },
    "id": "-IgmqfI11d8K",
    "outputId": "61eb9a1e-8a51-4f6b-e616-d0ee485f1ffb"
   },
   "outputs": [
    {
     "data": {
      "application/vnd.google.colaboratory.intrinsic+json": {
       "type": "string"
      },
      "text/plain": [
       "'Male'"
      ]
     },
     "execution_count": 88,
     "metadata": {
      "tags": []
     },
     "output_type": "execute_result"
    }
   ],
   "source": [
    "df['Gender'].mode()[0]"
   ]
  },
  {
   "cell_type": "code",
   "execution_count": null,
   "metadata": {
    "id": "XjTIttBI0P2y"
   },
   "outputs": [],
   "source": [
    "#fill the missing value for categorical terms -- mode()[most occuring term]\n",
    "df['Gender'] = df['Gender'].fillna(df['Gender'].mode()[0])\n",
    "df['Married'] = df['Married'].fillna(df['Married'].mode()[0])\n",
    "df['Dependents'] = df['Dependents'].fillna(df['Dependents'].mode()[0])\n",
    "df['Self_Employed'] = df['Self_Employed'].fillna(df['Self_Employed'].mode()[0])"
   ]
  },
  {
   "cell_type": "code",
   "execution_count": null,
   "metadata": {
    "colab": {
     "base_uri": "https://localhost:8080/"
    },
    "id": "RWDcbwys2EQ2",
    "outputId": "3356500a-43b7-4979-a27c-d0233d3b6e8f"
   },
   "outputs": [
    {
     "data": {
      "text/plain": [
       "Loan_ID              0\n",
       "Gender               0\n",
       "Married              0\n",
       "Dependents           0\n",
       "Education            0\n",
       "Self_Employed        0\n",
       "ApplicantIncome      0\n",
       "CoapplicantIncome    0\n",
       "LoanAmount           0\n",
       "Loan_Amount_Term     0\n",
       "Credit_History       0\n",
       "Property_Area        0\n",
       "Loan_Status          0\n",
       "Total_Income         0\n",
       "dtype: int64"
      ]
     },
     "execution_count": 90,
     "metadata": {
      "tags": []
     },
     "output_type": "execute_result"
    }
   ],
   "source": [
    "df.isna().sum()"
   ]
  },
  {
   "cell_type": "code",
   "execution_count": null,
   "metadata": {
    "id": "cqH90LMG2LP0"
   },
   "outputs": [],
   "source": [
    "# Explorotory Data Analysis"
   ]
  },
  {
   "cell_type": "code",
   "execution_count": null,
   "metadata": {
    "colab": {
     "base_uri": "https://localhost:8080/",
     "height": 350
    },
    "id": "FJHrk60N2ciM",
    "outputId": "f2a301c1-ead1-404e-faea-bc9bca881f59"
   },
   "outputs": [
    {
     "name": "stderr",
     "output_type": "stream",
     "text": [
      "/usr/local/lib/python3.7/dist-packages/seaborn/_decorators.py:43: FutureWarning: Pass the following variable as a keyword arg: x. From version 0.12, the only valid positional argument will be `data`, and passing other arguments without an explicit keyword will result in an error or misinterpretation.\n",
      "  FutureWarning\n"
     ]
    },
    {
     "data": {
      "text/plain": [
       "<matplotlib.axes._subplots.AxesSubplot at 0x7fce6f7d4b10>"
      ]
     },
     "execution_count": 92,
     "metadata": {
      "tags": []
     },
     "output_type": "execute_result"
    },
    {
     "data": {
      "image/png": "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\n",
      "text/plain": [
       "<Figure size 432x288 with 1 Axes>"
      ]
     },
     "metadata": {
      "needs_background": "light",
      "tags": []
     },
     "output_type": "display_data"
    }
   ],
   "source": [
    "# Categorical Atributsvisualisation\n",
    "sns.countplot(df['Gender'])"
   ]
  },
  {
   "cell_type": "code",
   "execution_count": null,
   "metadata": {
    "colab": {
     "base_uri": "https://localhost:8080/",
     "height": 350
    },
    "id": "5vVRvr5s2lgd",
    "outputId": "85a12054-cca6-4537-f884-6640ab45cd23"
   },
   "outputs": [
    {
     "name": "stderr",
     "output_type": "stream",
     "text": [
      "/usr/local/lib/python3.7/dist-packages/seaborn/_decorators.py:43: FutureWarning: Pass the following variable as a keyword arg: x. From version 0.12, the only valid positional argument will be `data`, and passing other arguments without an explicit keyword will result in an error or misinterpretation.\n",
      "  FutureWarning\n"
     ]
    },
    {
     "data": {
      "text/plain": [
       "<matplotlib.axes._subplots.AxesSubplot at 0x7fce6f6a9a10>"
      ]
     },
     "execution_count": 93,
     "metadata": {
      "tags": []
     },
     "output_type": "execute_result"
    },
    {
     "data": {
      "image/png": "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\n",
      "text/plain": [
       "<Figure size 432x288 with 1 Axes>"
      ]
     },
     "metadata": {
      "needs_background": "light",
      "tags": []
     },
     "output_type": "display_data"
    }
   ],
   "source": [
    "sns.countplot(df['Married'])"
   ]
  },
  {
   "cell_type": "code",
   "execution_count": null,
   "metadata": {
    "colab": {
     "base_uri": "https://localhost:8080/",
     "height": 350
    },
    "id": "9j0ivCBj3kTn",
    "outputId": "07ba8b00-7223-42f0-c920-86160cde5ce8"
   },
   "outputs": [
    {
     "name": "stderr",
     "output_type": "stream",
     "text": [
      "/usr/local/lib/python3.7/dist-packages/seaborn/_decorators.py:43: FutureWarning: Pass the following variable as a keyword arg: x. From version 0.12, the only valid positional argument will be `data`, and passing other arguments without an explicit keyword will result in an error or misinterpretation.\n",
      "  FutureWarning\n"
     ]
    },
    {
     "data": {
      "text/plain": [
       "<matplotlib.axes._subplots.AxesSubplot at 0x7fce6f608b50>"
      ]
     },
     "execution_count": 94,
     "metadata": {
      "tags": []
     },
     "output_type": "execute_result"
    },
    {
     "data": {
      "image/png": "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\n",
      "text/plain": [
       "<Figure size 432x288 with 1 Axes>"
      ]
     },
     "metadata": {
      "needs_background": "light",
      "tags": []
     },
     "output_type": "display_data"
    }
   ],
   "source": [
    "\n",
    "sns.countplot(df['Dependents'])"
   ]
  },
  {
   "cell_type": "code",
   "execution_count": null,
   "metadata": {
    "colab": {
     "base_uri": "https://localhost:8080/",
     "height": 353
    },
    "id": "NUAHeO5h3pia",
    "outputId": "23661774-2136-4f21-f9da-38572411b193"
   },
   "outputs": [
    {
     "name": "stderr",
     "output_type": "stream",
     "text": [
      "/usr/local/lib/python3.7/dist-packages/seaborn/_decorators.py:43: FutureWarning: Pass the following variable as a keyword arg: x. From version 0.12, the only valid positional argument will be `data`, and passing other arguments without an explicit keyword will result in an error or misinterpretation.\n",
      "  FutureWarning\n"
     ]
    },
    {
     "data": {
      "text/plain": [
       "<matplotlib.axes._subplots.AxesSubplot at 0x7fce6f5f80d0>"
      ]
     },
     "execution_count": 95,
     "metadata": {
      "tags": []
     },
     "output_type": "execute_result"
    },
    {
     "data": {
      "image/png": "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\n",
      "text/plain": [
       "<Figure size 432x288 with 1 Axes>"
      ]
     },
     "metadata": {
      "needs_background": "light",
      "tags": []
     },
     "output_type": "display_data"
    }
   ],
   "source": [
    "sns.countplot(df['Education'])"
   ]
  },
  {
   "cell_type": "code",
   "execution_count": null,
   "metadata": {
    "colab": {
     "base_uri": "https://localhost:8080/",
     "height": 350
    },
    "id": "WfTMvDLp31C0",
    "outputId": "6e3f87f3-8589-49ff-b1b6-692f12580623"
   },
   "outputs": [
    {
     "name": "stderr",
     "output_type": "stream",
     "text": [
      "/usr/local/lib/python3.7/dist-packages/seaborn/_decorators.py:43: FutureWarning: Pass the following variable as a keyword arg: x. From version 0.12, the only valid positional argument will be `data`, and passing other arguments without an explicit keyword will result in an error or misinterpretation.\n",
      "  FutureWarning\n"
     ]
    },
    {
     "data": {
      "text/plain": [
       "<matplotlib.axes._subplots.AxesSubplot at 0x7fce6f5bcb10>"
      ]
     },
     "execution_count": 96,
     "metadata": {
      "tags": []
     },
     "output_type": "execute_result"
    },
    {
     "data": {
      "image/png": "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\n",
      "text/plain": [
       "<Figure size 432x288 with 1 Axes>"
      ]
     },
     "metadata": {
      "needs_background": "light",
      "tags": []
     },
     "output_type": "display_data"
    }
   ],
   "source": [
    "sns.countplot(df['Self_Employed'])"
   ]
  },
  {
   "cell_type": "code",
   "execution_count": null,
   "metadata": {
    "colab": {
     "base_uri": "https://localhost:8080/",
     "height": 350
    },
    "id": "RwsR5BG638Pf",
    "outputId": "44615de6-2463-43dc-c58a-f22c1f6cda07"
   },
   "outputs": [
    {
     "name": "stderr",
     "output_type": "stream",
     "text": [
      "/usr/local/lib/python3.7/dist-packages/seaborn/_decorators.py:43: FutureWarning: Pass the following variable as a keyword arg: x. From version 0.12, the only valid positional argument will be `data`, and passing other arguments without an explicit keyword will result in an error or misinterpretation.\n",
      "  FutureWarning\n"
     ]
    },
    {
     "data": {
      "text/plain": [
       "<matplotlib.axes._subplots.AxesSubplot at 0x7fce6f529350>"
      ]
     },
     "execution_count": 97,
     "metadata": {
      "tags": []
     },
     "output_type": "execute_result"
    },
    {
     "data": {
      "image/png": "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\n",
      "text/plain": [
       "<Figure size 432x288 with 1 Axes>"
      ]
     },
     "metadata": {
      "needs_background": "light",
      "tags": []
     },
     "output_type": "display_data"
    }
   ],
   "source": [
    "sns.countplot(df['Property_Area'])"
   ]
  },
  {
   "cell_type": "code",
   "execution_count": null,
   "metadata": {
    "colab": {
     "base_uri": "https://localhost:8080/",
     "height": 350
    },
    "id": "SgPbtXSX4HYs",
    "outputId": "97ab6112-94c0-428c-a34f-d66cd82d0b98"
   },
   "outputs": [
    {
     "name": "stderr",
     "output_type": "stream",
     "text": [
      "/usr/local/lib/python3.7/dist-packages/seaborn/_decorators.py:43: FutureWarning: Pass the following variable as a keyword arg: x. From version 0.12, the only valid positional argument will be `data`, and passing other arguments without an explicit keyword will result in an error or misinterpretation.\n",
      "  FutureWarning\n"
     ]
    },
    {
     "data": {
      "text/plain": [
       "<matplotlib.axes._subplots.AxesSubplot at 0x7fce6f4e8e10>"
      ]
     },
     "execution_count": 98,
     "metadata": {
      "tags": []
     },
     "output_type": "execute_result"
    },
    {
     "data": {
      "image/png": "iVBORw0KGgoAAAANSUhEUgAAAYUAAAEHCAYAAABBW1qbAAAABHNCSVQICAgIfAhkiAAAAAlwSFlzAAALEgAACxIB0t1+/AAAADh0RVh0U29mdHdhcmUAbWF0cGxvdGxpYiB2ZXJzaW9uMy4yLjIsIGh0dHA6Ly9tYXRwbG90bGliLm9yZy+WH4yJAAATXklEQVR4nO3df7CeZX3n8feHgKAFCZAji0m2YWp2HdQa2bNI1/3hwnYLtNtQqxTGH1nLbHQGq25bV3BmKzplx26LVGxLJy5KsG6R1SqpQ7vLRmqX2eXHCcYQQKYpwpJsJKf8UnRNN/DdP54rNw/hJDmB3M9zyHm/Zp557vu6rvt+vidz4HPuX8+VqkKSJIDDxl2AJGnuMBQkSR1DQZLUMRQkSR1DQZLUOXzcBbwQixYtqmXLlo27DEl6UdmwYcPfVNXETH0v6lBYtmwZU1NT4y5Dkl5Ukjy4tz5PH0mSOoaCJKljKEiSOoaCJKljKEiSOoaCJKljKEiSOoaCJKljKEiSOi/qJ5oPhn/woWvHXYLmoA2//a5xlyCNhUcKkqSOoSBJ6hgKkqSOoSBJ6hgKkqSOoSBJ6vQeCkkWJPlmkq+19ZOT3JZkS5IvJnlJaz+yrW9p/cv6rk2S9GyjOFL4AHDv0PpvAVdU1auAx4ALW/uFwGOt/Yo2TpI0Qr2GQpIlwM8C/6mtBzgD+FIbshY4ty2vbOu0/jPbeEnSiPR9pPC7wL8Dnm7rJwCPV9Wutr4VWNyWFwMPAbT+J9p4SdKI9BYKSX4O2FFVGw7yflcnmUoyNT09fTB3LUnzXp9HCm8Cfj7JA8B1DE4bfQpYmGT3dy4tAba15W3AUoDWfyzwyJ47rao1VTVZVZMTExM9li9J809voVBVl1TVkqpaBpwPfL2q3g7cDLy1DVsF3NCW17V1Wv/Xq6r6qk+S9FzjeE7hw8CvJtnC4JrB1a39auCE1v6rwMVjqE2S5rWRfHV2Vf0F8Bdt+X7gtBnG/Ah42yjqkSTNzCeaJUkdQ0GS1DEUJEkdQ0GS1DEUJEkdQ0GS1DEUJEkdQ0GS1DEUJEkdQ0GS1DEUJEkdQ0GS1DEUJEkdQ0GS1DEUJEkdQ0GS1OktFJIcleT2JN9KcneSj7X2a5J8J8nG9lrR2pPkyiRbkmxKcmpftUmSZtbnzGs7gTOq6skkRwC3JPmz1vehqvrSHuPPBpa31xuBq9q7JGlEejtSqIEn2+oR7VX72GQlcG3b7lZgYZKT+qpPkvRcvV5TSLIgyUZgB3BTVd3Wui5rp4iuSHJka1sMPDS0+dbWtuc+VyeZSjI1PT3dZ/mSNO/0GgpV9VRVrQCWAKcleS1wCfBq4B8CxwMfPsB9rqmqyaqanJiYOOg1S9J8NpK7j6rqceBm4Kyq2t5OEe0EPgec1oZtA5YObbaktUmSRqTPu48mkixsyy8Ffhr49u7rBEkCnAtsbpusA97V7kI6HXiiqrb3VZ8k6bn6vPvoJGBtkgUMwuf6qvpakq8nmQACbATe28bfCJwDbAF+CLy7x9okSTPoLRSqahPwhhnaz9jL+AIu6qseSdL++USzJKljKEiSOoaCJKljKEiSOoaCJKljKEiSOoaCJKljKEiSOoaCJKljKEiSOoaCJKljKEiSOoaCJKljKEiSOoaCJKnT58xrRyW5Pcm3ktyd5GOt/eQktyXZkuSLSV7S2o9s61ta/7K+apMkzazPI4WdwBlV9XpgBXBWm2bzt4ArqupVwGPAhW38hcBjrf2KNk6SNEK9hUINPNlWj2ivAs4AvtTa1zKYpxlgZVun9Z/Z5nGWJI1Ir9cUkixIshHYAdwE/DXweFXtakO2Aovb8mLgIYDW/wRwQp/1SZKerddQqKqnqmoFsAQ4DXj1C91nktVJppJMTU9Pv+AaJUnPGMndR1X1OHAz8FPAwiSHt64lwLa2vA1YCtD6jwUemWFfa6pqsqomJyYmeq9dkuaTPu8+mkiysC2/FPhp4F4G4fDWNmwVcENbXtfWaf1fr6rqqz5J0nMdvv8hz9tJwNokCxiEz/VV9bUk9wDXJflN4JvA1W381cDnk2wBHgXO77E2SdIMeguFqtoEvGGG9vsZXF/Ys/1HwNv6qkeStH8+0SxJ6hgKkqSOoSBJ6hgKkqSOoSBJ6hgKkqSOoSBJ6hgKkqSOoSBJ6hgKkqSOoSBJ6hgKkqSOoSBJ6hgKkqSOoSBJ6hgKkqROn9NxLk1yc5J7ktyd5AOt/dIk25JsbK9zhra5JMmWJPcl+Zm+apMkzazP6Th3Ab9WVXcmOQbYkOSm1ndFVf3O8OAkpzCYgvM1wCuB/57k71XVUz3WKEka0tuRQlVtr6o72/L3gXuBxfvYZCVwXVXtrKrvAFuYYdpOSVJ/RnJNIckyBvM139aa3pdkU5LPJjmutS0GHhrabCszhEiS1UmmkkxNT0/3WLUkzT+9h0KSo4EvAx+squ8BVwE/AawAtgOXH8j+qmpNVU1W1eTExMRBr1eS5rNeQyHJEQwC4QtV9ScAVfVwVT1VVU8Dn+GZU0TbgKVDmy9pbZKkEZlVKCRZP5u2PfoDXA3cW1WfHGo/aWjYLwCb2/I64PwkRyY5GVgO3D6b+iRJB8c+7z5KchTwMmBRO/ef1vVy9n3RGOBNwDuBu5JsbG0fAS5IsgIo4AHgPQBVdXeS64F7GNy5dJF3HknSaO3vltT3AB9kcIvoBp4Jhe8Bv7evDavqlqHxw27cxzaXAZftpyZJUk/2GQpV9SngU0l+pao+PaKaJEljMquH16rq00n+EbBseJuquranuiRJYzCrUEjyeQa3kW4Edp/nL8BQkKRDyGy/5mISOKWqqs9iJEnjNdvnFDYDf6fPQiRJ4zfbI4VFwD1Jbgd27m6sqp/vpSpJ0ljMNhQu7bMISdLcMNu7j77RdyGSpPGb7d1H32dwtxHAS4AjgB9U1cv7KkySNHqzPVI4Zvdy+06jlcDpfRUlSRqPA/6W1Br4KuB0mZJ0iJnt6aO3DK0exuC5hR/1UpEkaWxme/fRvxpa3sXg201XHvRqJEljNdtrCu/uuxBJ0vjNdpKdJUm+kmRHe305yZK+i5MkjdZsLzR/jsHMaK9srz9tbXuVZGmSm5Pck+TuJB9o7ccnuSnJX7X341p7klyZZEuSTUlOff4/liTp+ZhtKExU1eeqald7XQNM7GebXcCvVdUpDG5fvSjJKcDFwPqqWg6sb+sAZzOYgnM5sBq46sB+FEnSCzXbUHgkyTuSLGivdwCP7GuDqtpeVXe25e8D9zKYwnMlsLYNWwuc25ZXAte2W15vBRbuMZ+zJKlnsw2FXwbOA74LbAfeCvzr2X5IkmXAG4DbgBOranvr+i5wYlteDDw0tNlW9j8PtCTpIJptKHwcWFVVE1X1CgYh8bHZbJjkaODLwAer6nvDfW1+hgOaoyHJ6iRTSaamp6cPZFNJ0n7MNhR+sqoe271SVY8y+Mt/n5IcwSAQvlBVf9KaH959Wqi972jt24ClQ5svaW3PUlVrqmqyqiYnJvZ3WUOSdCBmGwqH7b5LCAZ3ELGfZxzadyRdDdxbVZ8c6loHrGrLq4Abhtrf1e5COh14Yug0kyRpBGb7RPPlwP9K8l/a+tuAy/azzZuAdwJ3JdnY2j4CfAK4PsmFwIMMrlUA3AicA2wBfgj4wJwkjdhsn2i+NskUcEZrektV3bOfbW4BspfuM2cYX8BFs6lHmg/+98dfN+4SNAf93d+4q9f9z/ZIgRYC+wwCSdKL2wF/dbYk6dBlKEiSOoaCJKljKEiSOoaCJKljKEiSOoaCJKljKEiSOoaCJKljKEiSOoaCJKljKEiSOoaCJKljKEiSOoaCJKnTWygk+WySHUk2D7VdmmRbko3tdc5Q3yVJtiS5L8nP9FWXJGnv+jxSuAY4a4b2K6pqRXvdCJDkFOB84DVtmz9IsqDH2iRJM+gtFKrqL4FHZzl8JXBdVe2squ8wmKf5tL5qkyTNbBzXFN6XZFM7vXRca1sMPDQ0Zmtre44kq5NMJZmanp7uu1ZJmldGHQpXAT8BrAC2A5cf6A6qak1VTVbV5MTExMGuT5LmtZGGQlU9XFVPVdXTwGd45hTRNmDp0NAlrU2SNEIjDYUkJw2t/gKw+86kdcD5SY5McjKwHLh9lLVJkuDwvnac5I+BNwOLkmwFPgq8OckKoIAHgPcAVNXdSa4H7gF2ARdV1VN91SZJmllvoVBVF8zQfPU+xl8GXNZXPZKk/fOJZklSx1CQJHUMBUlSx1CQJHUMBUlSx1CQJHUMBUlSx1CQJHUMBUlSx1CQJHUMBUlSx1CQJHUMBUlSx1CQJHUMBUlSx1CQJHV6C4Ukn02yI8nmobbjk9yU5K/a+3GtPUmuTLIlyaYkp/ZVlyRp7/o8UrgGOGuPtouB9VW1HFjf1gHOZjAv83JgNXBVj3VJkvait1Coqr8EHt2jeSWwti2vBc4dar+2Bm4FFiY5qa/aJEkzG/U1hROrantb/i5wYlteDDw0NG5ra3uOJKuTTCWZmp6e7q9SSZqHxnahuaoKqOex3ZqqmqyqyYmJiR4qk6T5a9Sh8PDu00LtfUdr3wYsHRq3pLVJkkZo1KGwDljVllcBNwy1v6vdhXQ68MTQaSZJ0ogc3teOk/wx8GZgUZKtwEeBTwDXJ7kQeBA4rw2/ETgH2AL8EHh3X3VJkvaut1Coqgv20nXmDGMLuKivWiRJs+MTzZKkjqEgSeoYCpKkjqEgSeoYCpKkjqEgSeoYCpKkjqEgSeoYCpKkjqEgSeoYCpKkjqEgSeoYCpKkjqEgSeoYCpKkTm/zKexLkgeA7wNPAbuqajLJ8cAXgWXAA8B5VfXYOOqTpPlqnEcK/7yqVlTVZFu/GFhfVcuB9W1dkjRCc+n00UpgbVteC5w7xlokaV4aVygU8N+SbEiyurWdWFXb2/J3gRNn2jDJ6iRTSaamp6dHUaskzRtjuaYA/OOq2pbkFcBNSb493FlVlaRm2rCq1gBrACYnJ2ccI0l6fsZypFBV29r7DuArwGnAw0lOAmjvO8ZRmyTNZyMPhSQ/luSY3cvAvwQ2A+uAVW3YKuCGUdcmSfPdOE4fnQh8Jcnuz//PVfXnSe4Ark9yIfAgcN4YapOkeW3koVBV9wOvn6H9EeDMUdcjSXrGXLolVZI0ZoaCJKljKEiSOoaCJKljKEiSOoaCJKljKEiSOoaCJKljKEiSOoaCJKljKEiSOoaCJKljKEiSOoaCJKljKEiSOoaCJKkz50IhyVlJ7kuyJcnF465HkuaTORUKSRYAvw+cDZwCXJDklPFWJUnzx5wKBeA0YEtV3V9VfwtcB6wcc02SNG+MfI7m/VgMPDS0vhV44/CAJKuB1W31yST3jai2+WAR8DfjLmIuyO+sGncJejZ/N3f7aA7GXn58bx1zLRT2q6rWAGvGXcehKMlUVU2Ouw5pT/5ujs5cO320DVg6tL6ktUmSRmCuhcIdwPIkJyd5CXA+sG7MNUnSvDGnTh9V1a4k7wP+K7AA+GxV3T3msuYTT8tprvJ3c0RSVeOuQZI0R8y100eSpDEyFCRJHUNhnsvALUnOHmp7W5I/H2ddEkCSSnL50PqvJ7l0jCUd8gyFea4GF5XeC3wyyVFJjgb+A3DReCuTANgJvCXJonEXMl8YCqKqNgN/CnwY+A3g2qr66/FWJQGwi8GdR/923IXMF3PqllSN1ceAO4G/BXxyVHPJ7wObkvzHcRcyHxgKAqCqfpDki8CTVbVz3PVIu1XV95JcC7wf+L/jrudQ5+kjDXu6vaS55neBC4EfG3chhzpDQdKcV1WPAtczCAb1yFCQ9GJxOYOv0FaP/JoLSVLHIwVJUsdQkCR1DAVJUsdQkCR1DAVJUsdQkCR1DAUd8pI8OeLPOyzJlUk2J7kryR1JTm59H5nlPmY1TjrYfE5Bh7wkT1bV0SP8vAuAXwTOq6qnkywBflBVj822llHXLO3mkYLmpSQrktyaZFOSryQ5rrX/m/aX/beSfDnJy1r7Ne2v//+Z5P4kb93H7k8CtlfV0wBVtbUFwieAlybZmOQLbb9fTbIhyd1JVre2Z41LsizJ5qHau4lmkrw/yT3t57iuh38qzTMeKeiQN9Nf3Uk2Ab9SVd9I8nHg5VX1wSQnVNUjbcxvAg9X1aeTXMPgy9h+CXg1sK6qXrWXz1sC3AI8DqwH/qiqvjlTLUmOr6pHk7wUuAP4Z1X1yPC4JMuAr1XVa9v6rwNHV9WlSf4PcHJV7UyysKoePyj/aJq3PFLQvJPkWGBhVX2jNa0F/mlbfm2S/5HkLuDtwGuGNv1qVT1dVfcAJ+5t/1W1Ffj7wCUMvnV2fZIz9zL8/Um+BdwKLAWWH+CPswn4QpJ3MJiQRnpBDAXp2a4B3ldVr2Mw8dBRQ33D80xkXzupqp1V9WdV9SEG05ueu+eYJG8G/gXwU1X1euCbe3zebrt49n+rw2N+lsEkNKcCdyRxjhS9IIaC5p2qegJ4LMk/aU3vBHYfNRwDbE9yBIMjhQOW5NQkr2zLhwE/CTzYuv9f2zfAscBjVfXDJK8GTh/azfC4h4FXJDkhyZHAzw3te2lV3cxgKtVjAS9O6wXxrwrNBy9LsnVo/ZPAKuAP24Xk+4F3t75/D9wGTLf3Y57H570C+Ez7HzjA7cDvteU1DKaWvBP4ZeC9Se4F7mNwCok9x1XV29t1j9uBbcC325gFwB+102EBrvSagl4oLzRLkjqePpIkdTx9JD1PSV4HfH6P5p1V9cZx1CMdDJ4+kiR1PH0kSeoYCpKkjqEgSeoYCpKkzv8HbcdWu3YXI3EAAAAASUVORK5CYII=\n",
      "text/plain": [
       "<Figure size 432x288 with 1 Axes>"
      ]
     },
     "metadata": {
      "needs_background": "light",
      "tags": []
     },
     "output_type": "display_data"
    }
   ],
   "source": [
    "sns.countplot(df['Loan_Status'])"
   ]
  },
  {
   "cell_type": "code",
   "execution_count": null,
   "metadata": {
    "colab": {
     "base_uri": "https://localhost:8080/",
     "height": 299
    },
    "id": "g5u7ut0F4Qpr",
    "outputId": "22f873e5-3531-40c4-d169-e05a4dcc8fad"
   },
   "outputs": [
    {
     "data": {
      "text/plain": [
       "<matplotlib.axes._subplots.AxesSubplot at 0x7fce6f473510>"
      ]
     },
     "execution_count": 99,
     "metadata": {
      "tags": []
     },
     "output_type": "execute_result"
    },
    {
     "data": {
      "image/png": "iVBORw0KGgoAAAANSUhEUgAAAYUAAAEJCAYAAAB7UTvrAAAABHNCSVQICAgIfAhkiAAAAAlwSFlzAAALEgAACxIB0t1+/AAAADh0RVh0U29mdHdhcmUAbWF0cGxvdGxpYiB2ZXJzaW9uMy4yLjIsIGh0dHA6Ly9tYXRwbG90bGliLm9yZy+WH4yJAAAZMElEQVR4nO3de5RdZZnn8e9DYUJilCSmjAkQUw40PWjbSpd4HRcNzgg2I/QsxoZhdYPGYfWIjrY9KuBabffMH4OXNd6aVrNEwR6GixEbRNGmEdQeFUyQS4IiaQJVQUgKEBDJqBTP/LHf2jkpKqnrOfsU5/tZ66za+923Jzmn6nf2fs9+T2QmkiQB7Nd0AZKk7mEoSJJqhoIkqWYoSJJqhoIkqWYoSJJqbQuFiPhCROyMiM0tbR+NiJ9GxG0R8dWIWNqy7JyI2BoRd0bEG9tVlyRp79p5pnAhcNy4tmuBl2TmS4GfAecARMQRwCnAi8s2fxcRfW2sTZI0gf3btePM/G5ErB3X9o8tsz8ETi7TJwKXZuavgW0RsRU4CvjBvo6xYsWKXLt27b5WkSSNs2nTpgczs3+iZW0LhSl4G3BZmT6IKiTGbC9t+7R27Vo2btzYhtIk6ZkrIu7d27JGOpoj4oPAk8DFM9j2zIjYGBEbR0ZG5r44SephHQ+FiDgDOAE4LXcPvHQfcEjLageXtqfJzPWZOZiZg/39E579SJJmqKOhEBHHAe8H3pyZT7Qsugo4JSIWRsQAcBhwUydrkyS1sU8hIi4BjgZWRMR24ENUnzZaCFwbEQA/zMw/z8wtEXE5cAfVZaWzMnO0XbVJkiYW83no7MHBwbSjWZKmJyI2ZebgRMu8o1mSVDMUJEk1Q0GSVGvy5rV5YXR0lKGhIQDWrFlDX5+jb0h65vJMYRJDQ0OsO/8a1p1/TR0OkvRM5ZnCFCxevrLpEiSpIzxTkCTVDAVJUs1QkCTVDAVJUs1QkCTVDAVJUs1QkCTVDAVJUs1QkCTVDAVJUs1QkCTVDAVJUs1QkCTVDAVJUs1QkCTVDAVJUs1QkCTVDAVJUs1QkCTVDAVJUs1QkCTV2hYKEfGFiNgZEZtb2pZHxLURcVf5uay0R0R8KiK2RsRtEXFku+qSJO1dO88ULgSOG9d2NnBdZh4GXFfmAY4HDiuPM4HPtLEuSdJetC0UMvO7wMPjmk8ELirTFwEntbR/KSs/BJZGxKp21SZJmlin+xRWZub9ZfoBYGWZPggYbllve2mTJHVQYx3NmZlATne7iDgzIjZGxMaRkZE2VCZJvavTobBj7LJQ+bmztN8HHNKy3sGl7Wkyc31mDmbmYH9/f1uLlaRe0+lQuAo4vUyfDlzZ0v5n5VNIrwIebbnMJEnqkP3bteOIuAQ4GlgREduBDwHnAZdHxDrgXuAtZfVvAG8CtgJPAG9tV12SpL1rWyhk5ql7WXTsBOsmcFa7apmu0dFRhoaGABgeHiYTIhouSpI6oG2hMJ8NDQ2x7vxrWLx8JQ9t28KS1YeycOHCpsuSpLZzmIu9WLx8JUtWrGbRgSuaLkWSOsZQkCTVDAVJUs1QkCTVDAVJUs1QkCTVDAVJUs1QkCTVDAVJUs1QkCTVDAVJUs1QkCTVDAVJUs1QkCTVDAVJUs1QkCTVDAVJUs1QkCTVDAVJUs1QkCTV9m+6gPkinxpleHi4nl+zZg19fX0NViRJc89QmKJdjzzIuRt+ztIXjPDEwzu44KzjGRgYaLosSZpThsI0LFr2fJasWN10GZLUNvYpSJJqhoIkqWYoSJJqjYRCRPxFRGyJiM0RcUlEHBARAxFxY0RsjYjLImJBE7VJUi/reChExEHAfwUGM/MlQB9wCvBh4OOZeSjwC2Bdp2uTpF7X1OWj/YFFEbE/sBi4HzgG2FCWXwSc1FBtktSzOh4KmXkf8DFgiCoMHgU2AY9k5pNlte3AQZ2uTZJ6XROXj5YBJwIDwGrg2cBx09j+zIjYGBEbR0ZG2lSlJPWmJi4fvQHYlpkjmflb4ArgtcDScjkJ4GDgvok2zsz1mTmYmYP9/f2dqViSekQToTAEvCoiFkdEAMcCdwDXAyeXdU4HrmygNknqaU30KdxI1aF8M3B7qWE98AHgvRGxFXgecEGna5OkXtfI2EeZ+SHgQ+Oa7waOaqAcSVLhHc2SpJqhIEmqGQqSpJqhIEmqGQqSpJqhIEmqGQqSpJqhIEmqGQqSpJqhIEmqGQqSpJqhIEmqGQqSpJqhIEmqGQqSpJqhIEmqGQqSpNqUQiEiXjuVNknS/DbVM4VPT7FNkjSP7fM7miPi1cBrgP6IeG/LoucCfe0sTJLUefsMBWABsKSs95yW9seAk9tVlCSpGfsMhcz8DvCdiLgwM+/tUE2SpIZMdqYwZmFErAfWtm6Tmce0oyhJUjOmGgpfBj4LfB4YbV85kqQmTTUUnszMz7S1EklS46b6kdSvRcQ7ImJVRCwfe7S1MklSx031TOH08vN9LW0JvGhuy5EkNWlKoZCZA3N50IhYStU/8RKqcHkbcCdwGVVn9j3AWzLzF3N5XEnSvk0pFCLizyZqz8wvzfC4nwS+mZknR8QCYDFwLnBdZp4XEWcDZwMfmOH+2yqfGmV4eBiANWvW0NfnfXySnhmmevnoFS3TBwDHAjcD0w6FiDgQeD1wBkBm/gb4TUScCBxdVrsIuIEuDYVdjzzIuRt+zoIFm7ngrOMZGJjTEylJasxULx+9q3W+XP65dIbHHABGgC9GxO8Dm4B3Aysz8/6yzgPAyhnuvyMWLXs+CxcubLoMSZpTMx06+1dUf9xnYn/gSOAzmfnysq+zW1fIzKTqa3iaiDgzIjZGxMaRkZEZliBJmshU+xS+xu4/0n3AvwYun+ExtwPbM/PGMr+BKhR2RMSqzLw/IlYBOyfaODPXA+sBBgcHJwwOSdLMTLVP4WMt008C92bm9pkcMDMfiIjhiDg8M++k6p+4ozxOB84rP6+cyf4lSTM31T6F70TESnZ3ON81y+O+C7i4fPLobuCtVJeyLo+IdcC9wFtmeQxJ0jRN9fLRW4CPUn0iKIBPR8T7MnPDTA6ambcAgxMsOnYm+5MkzY2pXj76IPCKzNwJEBH9wD9R9QdIkp4hpvrpo/3GAqF4aBrbSpLmiameKXwzIr4FXFLm/wT4RntKkiQ1ZbLvaD6U6qay90XEfwBeVxb9ALi43cVJkjprsjOFTwDnAGTmFcAVABHxe2XZv29rdZKkjpqsX2BlZt4+vrG0rW1LRZKkxkwWCkv3sWzRXBYiSWreZKGwMSL+8/jGiHg71UB2kqRnkMn6FN4DfDUiTmN3CAwCC4A/bmdhkqTO22coZOYO4DUR8YdU35IG8PXM/HbbK5MkddxUxz66Hri+zbVIkhrmXcmSpJqhIEmqGQqSpJqhIEmqGQqSpJqhIEmqTXXo7J4wOjrK0NAQw8PDZDZdjSR1nqHQYmhoiHXnX8OuRx9kyepDmy5HkjrOUBhn8fKVTZcgSY2xT0GSVPNMYY6M9UeMWbNmDX19fQ1WJEnTZyjMkbH+iMXLV/LEwzu44KzjGRgYaLosSZoWQ2EOLV6+kiUrVjddhiTNmH0KkqSaoSBJqhkKkqRaY6EQEX0R8eOIuLrMD0TEjRGxNSIui4gFTdUmSb2qyTOFdwM/aZn/MPDxzDwU+AWwrpGqJKmHNRIKEXEw8EfA58t8AMcAG8oqFwEnNVGbJPWyps4UPgG8H3iqzD8PeCQznyzz24GDmihMknpZx0MhIk4Admbmphluf2ZEbIyIjSMjI3NcnST1tibOFF4LvDki7gEupbps9ElgaUSM3Ux3MHDfRBtn5vrMHMzMwf7+/k7UK0k9o+OhkJnnZObBmbkWOAX4dmaeBlwPnFxWOx24stO1SVKv66b7FD4AvDcitlL1MVzQcD2S1HMaHfsoM28AbijTdwNHNVmPJPW6bjpTkCQ1zFCQJNUMBUlSzVCQJNUMBUlSzVCQJNUMBUlSzVCQJNUavXltvsunRhkeHgZgeHiYzIYLkqRZMhRmYdcjD3Luhp+z9AUjPLRtC0tWH9p0SZI0K14+mqVFy57PkhWrWXTgiqZLkaRZMxQkSTVDQZJUMxQkSTVDQZJUMxQkSTVDQZJUMxQkSTVDQZJUMxQkSTVDQZJUMxQkSTVDQZJUMxQkSTVDQZJUMxQkSTVDQZJU63goRMQhEXF9RNwREVsi4t2lfXlEXBsRd5WfyzpdmyT1uibOFJ4E/jIzjwBeBZwVEUcAZwPXZeZhwHVlXpLUQR0Phcy8PzNvLtO/BH4CHAScCFxUVrsIOKnTtUlSr2u0TyEi1gIvB24EVmbm/WXRA8DKhsqSpJ7VWChExBLgK8B7MvOx1mWZmUDuZbszI2JjRGwcGRnpQKWS1DsaCYWIeBZVIFycmVeU5h0RsaosXwXsnGjbzFyfmYOZOdjf39+ZgiWpRzTx6aMALgB+kpn/q2XRVcDpZfp04MpO1yZJvW7/Bo75WuBPgdsj4pbSdi5wHnB5RKwD7gXe0kBtktTTOh4KmfnPQOxl8bGdrKVd8qlRhoeHAVizZg19fX0NVyRJU+MdzW2w65EHOXfDzaw7/xqGhoaaLkeSpqyJy0c9YdGy57Nw4cKmy5CkafFMQZJUMxQkSTVDQZJUs0+hjVo/hTQ6OgpAX1+fn0iS1LUMhTaqPoX0c5a+YISHtm2hb9FzWbBgARecdTwDAwNNlydJT2MotNmiZc9nyYrVPPHwDvqevdRPJEnqaoZCg0ZHR/e4j8HLSpKaZig0aGhoiHXnX8Pi5St54uEdXlaS1DhDoWGLl69kyYrVTZchSYAfSZUktTAUJEk1Q0GSVLNPoUs43LakbuCZQpdwuG1J3cAzhS7icNuSmtbzodB6A9nw8DCZDRc0S63/Hi9DSZqung+F1hvIHtq2hSWrD226pFkZ+/cA3gwnadp6PhRg9w1kTzy8o+3Hau1QbteZyeLlK+d+p5J6gqHQYeNHTp3vZyaSnll6MhSa7kdoHTl1X+wfkNRpPRkK86Ufwf4BSZ3Wk6EAne1HmI7xfQ6Llq0kYm727VDdkibTs6HQrSbqc2i9d2Eml5TGthkeHuavr9o8raG6DRKptxgKXWhffQ4zuaQ0ts2uRx9kyepDpzVUt9/5IPUWQ2EemOiSErm7DSZ/B7+3j6nu7Uyg9exi0TK/80HqFV0XChFxHPBJoA/4fGae13BJjZvoktLorx6p22bzDn5vZwLjzy4k9YauCoWI6APOB/4tsB34UURclZl3NFtZ8ya6pDTWNpHJbpJrXb63M4HxZxdTHcm1m/shZtMn07rNZG3T2X9T5ttHnudbvXOtU6+vrgoF4Chga2beDRARlwInAj0fCtM12U1yY8tHdz025TOBsW0WLNi8zzOTbu6HmE2fTOs2+2rrxn/3RObbR57nW71zrVOvr24LhYOA4Zb57cAr23GgsXfcux59kL7f/IbHFy6sp0d3PTbjtk5t09r2xMM79jgreOLhHdV6i55b/3t3/WLn0/dTlu/6xc5972eCbVr7M8Ybv2xf63Zaay1TrWuibSZrm87+mzKT/4smzbd651qn/s2RXTQsaEScDByXmW8v838KvDIz39myzpnAmWX2cODOGR5uBfDgLMpth26sCaxrOrqxJrCu6ejGmmBu63phZvZPtKDbzhTuAw5pmT+4tNUycz2wfrYHioiNmTk42/3MpW6sCaxrOrqxJrCu6ejGmqBzdXXbN6/9CDgsIgYiYgFwCnBVwzVJUs/oqjOFzHwyIt4JfIvqI6lfyMwtDZclST2jq0IBIDO/AXyjA4ea9SWoNujGmsC6pqMbawLrmo5urAk6VFdXdTRLkprVbX0KkqQG9VwoRMRxEXFnRGyNiLPbdIwvRMTOiNjc0rY8Iq6NiLvKz2WlPSLiU6We2yLiyJZtTi/r3xURp7e0/0FE3F62+VTE5INrR8QhEXF9RNwREVsi4t1dUtcBEXFTRNxa6vqb0j4QETeWfV1WPnhARCws81vL8rUt+zqntN8ZEW9saZ/Rcx4RfRHx44i4uotquqf8H98SERtLW6PPYdluaURsiIifRsRPIuLVTdYVEYeX/6Oxx2MR8Z4u+b/6i/Ja3xwRl0T1O9D4a6uWmT3zoOq8/hfgRcAC4FbgiDYc5/XAkcDmlraPAGeX6bOBD5fpNwHXAAG8CrixtC8H7i4/l5XpZWXZTWXdKNseP4WaVgFHlunnAD8DjuiCugJYUqafBdxY9nE5cEpp/yzwX8r0O4DPlulTgMvK9BHl+VwIDJTnuW82zznwXuD/AFeX+W6o6R5gxbi2Rp/Dst1FwNvL9AJgaTfU1fJ7/wDwwqZrorpBdxuwqOU1dUY3vLbqGmf6h28+PoBXA99qmT8HOKdNx1rLnqFwJ7CqTK8C7izTnwNOHb8ecCrwuZb2z5W2VcBPW9r3WG8a9V1JNcZU19QFLAZuprqL/UFg//HPG9Un015dpvcv68X453JsvZk+51T3yFwHHANcXY7RaE1l3Xt4eig0+hwCB1L9oYtuqqtl/X8H/N9uqIndozYsL6+Vq4E3dsNra+zRa5ePJhpG46AOHXtlZt5fph8Axkab21tN+2rfPkH7lJVT0JdTvStvvK6oLtPcAuwErqV6p/NIZj45wb7q45fljwLPm0G9k/kE8H7gqTL/vC6oCSCBf4yITVHd3Q/NP4cDwAjwxagut30+Ip7dBXWNOQW4pEw3WlNm3gd8DBgC7qd6rWyiO15bQA/2KXSDrCK8kY99RcQS4CvAezLzsW6oKzNHM/NlVO/OjwJ+t9M1tIqIE4CdmbmpyTr24nWZeSRwPHBWRLy+dWFDz+H+VJdLP5OZLwd+RXVppum6KNfm3wx8efyyJmoqfRgnUgXpauDZwHGdrGEyvRYKkw6j0UY7ImIVQPm5c5Ka9tV+8ATtk4qIZ1EFwsWZeUW31DUmMx8Brqc6BV4aEWP30bTuqz5+WX4g8NAM6t2X1wJvjoh7gEupLiF9suGagPqdJpm5E/gqVYg2/RxuB7Zn5o1lfgNVSDRdF1TheXNmjo0533RNbwC2ZeZIZv4WuILq9db4a6s2nWtN8/1B9Y7mbqqUHuuEeXGbjrWWPfsUPsqeHVwfKdN/xJ4dXDeV9uVU12mXlcc2YHlZNr6D601TqCeALwGfGNfedF39wNIyvQj4HnAC1Tu71o63d5Tps9iz4+3yMv1i9ux4u5uq021WzzlwNLs7mhutiepd5XNapr9P9S6z0eewbPc94PAy/delpm6o61LgrV30en8lsIWq/yyoOujf1fRra48aZ/pHb74+qD5l8DOq69YfbNMxLqG6XvhbqndR66iuA14H3AX8U8sLK6i+WOhfgNuBwZb9vA3YWh6tL+xBYHPZ5m8Z18G3l5peR3WqfBtwS3m8qQvqeinw41LXZuCvSvuLyi/d1vILs7C0H1Dmt5blL2rZ1wfLse+k5ZMgs3nO2TMUGq2pHP/W8tgytl3Tz2HZ7mXAxvI8/gPVH9CmX1vPpnpXfWBLWzf8X/0N8NOy7d9T/WHvitd7ZnpHsyRpt17rU5Ak7YOhIEmqGQqSpJqhIEmqGQqSpJqhoHkrIk6KiIyIGd8BHREXRsTJZfrzEXHE3FUIEXHuuPnH53L/0lwzFDSfnQr8c/k5a5n59sy8Yy721eLcyVeRuoehoHmpjOH0OqobA08pbUdHxHcj4utlPPnPRsR+ZdnjEfHxMo79dRHRP8E+b4iIwTJ9XETcHNX3PFxX2o6KiB+UQd++HxGHl/YzIuKKiPhmGXP/I6X9PGBRGc//4nHHOrocb+w7CC4eG48/Il5R9n9rVN818Zwy5v4Xy/j9P46IP2w59j9E9d0A90TEOyPivWWdH0bE8rLevyr1bYqI783m7ErPcNO9282Hj254AKcBF5Tp7wN/QHX38f+juju0j2rE1ZPLOgmcVqb/CvjbMn1hyzo3UN2l2k810uRAaR+76/W57B7e+A3AV8r0GVRDCxxIdQfqvcAhZdnj4+p+vPw8mmrEy4Op3pz9gCrkFpR9vaL1mMBfAl8obb9LNcrmAeXYW6m+I6O/7PPPy3ofpxr4EKq7eA8r068Evt30c+ijOx9jAzBJ882pVIPUQTW+zalUY9PflJl3A0TEJVR/aDdQDYF9WVn/f1MNRLY3rwK+m5nbADLz4dJ+IHBRRBxGFTLPatnmusx8tBz3DqovdGkdwngiN2Xm9rLNLVTjZT0K3J+ZPyrHfqwsfx3w6dL204i4F/idsp/rM/OXwC8j4lHga6X9duCl5azqNcCXY/eXgy2cpDb1KENB8065JHIM8HsRkVRnBQl8nacPhby3cVxmMr7L/6D6A/zH5TspbmhZ9uuW6VGm9rs1k20m289TLfNPlX3uRzVe/8tmuH/1EPsUNB+dDPx9Zr4wM9dm5iFUo1f+G+CoqL7vdj/gT6g6oqF6rZ9cpv9TS/tEfgi8PiIGoA4hqM4UxoYhPmOKtf62DFk+VXcCqyLiFeXYzylDJn+P6pIZEfE7wJqy7qTK2ca2iPiPZfuIiN+fRk3qIYaC5qNTqb5LoNVXSvuPqEas/AlVUIyt9yuqwNhMdZbx3/e288wcAc4EroiIW9l92ekjwP+MiB8z9Xf164Hbxnc07+PYv6EKs0+XY19L1Xfwd8B+EXF7qeeMzPz13vf0NKcB68o+t1B90Yv0NI6SqmeMiDga+G+ZecIEyx7PzCWdr0qaXzxTkCTVPFOQJNU8U5Ak1QwFSVLNUJAk1QwFSVLNUJAk1QwFSVLt/wMYIAtrv5G1gQAAAABJRU5ErkJggg==\n",
      "text/plain": [
       "<Figure size 432x288 with 1 Axes>"
      ]
     },
     "metadata": {
      "needs_background": "light",
      "tags": []
     },
     "output_type": "display_data"
    }
   ],
   "source": [
    "# Numerical Attributes visualisation\n",
    "sns.histplot(df['ApplicantIncome'])"
   ]
  },
  {
   "cell_type": "code",
   "execution_count": null,
   "metadata": {
    "id": "CGQQLsL-5MPW"
   },
   "outputs": [],
   "source": [
    "#applying log transformation to the attributes\n",
    "df['ApplicantIncome'] = np.log(df['ApplicantIncome'])"
   ]
  },
  {
   "cell_type": "code",
   "execution_count": null,
   "metadata": {
    "colab": {
     "base_uri": "https://localhost:8080/",
     "height": 299
    },
    "id": "O9CW_Kjd566C",
    "outputId": "9728e1e3-931b-47fd-c7e5-25a4b6970a46"
   },
   "outputs": [
    {
     "data": {
      "text/plain": [
       "<matplotlib.axes._subplots.AxesSubplot at 0x7fce6f42a2d0>"
      ]
     },
     "execution_count": 100,
     "metadata": {
      "tags": []
     },
     "output_type": "execute_result"
    },
    {
     "data": {
      "image/png": "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\n",
      "text/plain": [
       "<Figure size 432x288 with 1 Axes>"
      ]
     },
     "metadata": {
      "needs_background": "light",
      "tags": []
     },
     "output_type": "display_data"
    }
   ],
   "source": [
    "sns.histplot(df['ApplicantIncome'])"
   ]
  },
  {
   "cell_type": "code",
   "execution_count": null,
   "metadata": {
    "colab": {
     "base_uri": "https://localhost:8080/",
     "height": 296
    },
    "id": "SMeNA8LrEDZY",
    "outputId": "d89781ca-a337-4911-93c6-ee02f68e9945"
   },
   "outputs": [
    {
     "data": {
      "text/plain": [
       "<matplotlib.axes._subplots.AxesSubplot at 0x7fce6f278e10>"
      ]
     },
     "execution_count": 102,
     "metadata": {
      "tags": []
     },
     "output_type": "execute_result"
    },
    {
     "data": {
      "image/png": "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\n",
      "text/plain": [
       "<Figure size 432x288 with 1 Axes>"
      ]
     },
     "metadata": {
      "needs_background": "light",
      "tags": []
     },
     "output_type": "display_data"
    }
   ],
   "source": [
    "sns.histplot(df['CoapplicantIncome'])"
   ]
  },
  {
   "cell_type": "code",
   "execution_count": null,
   "metadata": {
    "colab": {
     "base_uri": "https://localhost:8080/",
     "height": 330
    },
    "id": "WMgffikT7b5k",
    "outputId": "55bd7e02-6635-4aa3-9cb7-bcec6f73c036"
   },
   "outputs": [
    {
     "name": "stderr",
     "output_type": "stream",
     "text": [
      "/usr/local/lib/python3.7/dist-packages/pandas/core/series.py:726: RuntimeWarning: invalid value encountered in log\n",
      "  result = getattr(ufunc, method)(*inputs, **kwargs)\n"
     ]
    },
    {
     "data": {
      "text/plain": [
       "<matplotlib.axes._subplots.AxesSubplot at 0x7fce6ef6c110>"
      ]
     },
     "execution_count": 104,
     "metadata": {
      "tags": []
     },
     "output_type": "execute_result"
    },
    {
     "data": {
      "image/png": "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\n",
      "text/plain": [
       "<Figure size 432x288 with 1 Axes>"
      ]
     },
     "metadata": {
      "needs_background": "light",
      "tags": []
     },
     "output_type": "display_data"
    }
   ],
   "source": [
    "df['CoapplicantIncome'] = np.log(df['CoapplicantIncome'])\n",
    "sns.histplot(df['CoapplicantIncome'])"
   ]
  },
  {
   "cell_type": "code",
   "execution_count": null,
   "metadata": {
    "colab": {
     "base_uri": "https://localhost:8080/",
     "height": 296
    },
    "id": "WBjCdESN72gb",
    "outputId": "a73f711c-e126-4f86-aeb0-a1f0347073e6"
   },
   "outputs": [
    {
     "data": {
      "text/plain": [
       "<matplotlib.axes._subplots.AxesSubplot at 0x7fce6eec3050>"
      ]
     },
     "execution_count": 105,
     "metadata": {
      "tags": []
     },
     "output_type": "execute_result"
    },
    {
     "data": {
      "image/png": "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\n",
      "text/plain": [
       "<Figure size 432x288 with 1 Axes>"
      ]
     },
     "metadata": {
      "needs_background": "light",
      "tags": []
     },
     "output_type": "display_data"
    }
   ],
   "source": [
    "sns.histplot(df['LoanAmount'])"
   ]
  },
  {
   "cell_type": "code",
   "execution_count": null,
   "metadata": {
    "colab": {
     "base_uri": "https://localhost:8080/",
     "height": 296
    },
    "id": "9Hp3eSSo8WwO",
    "outputId": "f41a6efd-11eb-44ca-91f7-1ce511e50683"
   },
   "outputs": [
    {
     "data": {
      "text/plain": [
       "<matplotlib.axes._subplots.AxesSubplot at 0x7fce6f722cd0>"
      ]
     },
     "execution_count": 106,
     "metadata": {
      "tags": []
     },
     "output_type": "execute_result"
    },
    {
     "data": {
      "image/png": "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\n",
      "text/plain": [
       "<Figure size 432x288 with 1 Axes>"
      ]
     },
     "metadata": {
      "needs_background": "light",
      "tags": []
     },
     "output_type": "display_data"
    }
   ],
   "source": [
    "df['LoanAmount'] = np.log(df['LoanAmount'])\n",
    "sns.histplot(df['LoanAmount'])"
   ]
  },
  {
   "cell_type": "code",
   "execution_count": null,
   "metadata": {
    "colab": {
     "base_uri": "https://localhost:8080/"
    },
    "id": "Cxxv6kWV8pWB",
    "outputId": "c74db627-43b1-47b4-b076-b7e90d06f319"
   },
   "outputs": [
    {
     "data": {
      "text/plain": [
       "Index(['Loan_ID', 'Gender', 'Married', 'Dependents', 'Education',\n",
       "       'Self_Employed', 'ApplicantIncome', 'CoapplicantIncome', 'LoanAmount',\n",
       "       'Loan_Amount_Term', 'Credit_History', 'Property_Area', 'Loan_Status',\n",
       "       'Total_Income'],\n",
       "      dtype='object')"
      ]
     },
     "execution_count": 107,
     "metadata": {
      "tags": []
     },
     "output_type": "execute_result"
    }
   ],
   "source": [
    "df.columns"
   ]
  },
  {
   "cell_type": "code",
   "execution_count": null,
   "metadata": {
    "colab": {
     "base_uri": "https://localhost:8080/",
     "height": 297
    },
    "id": "EGpdU3Gi8zdC",
    "outputId": "0af3ad0e-48f1-405f-fbd5-f9f662d1df8b"
   },
   "outputs": [
    {
     "data": {
      "text/plain": [
       "<matplotlib.axes._subplots.AxesSubplot at 0x7fce6ece6850>"
      ]
     },
     "execution_count": 108,
     "metadata": {
      "tags": []
     },
     "output_type": "execute_result"
    },
    {
     "data": {
      "image/png": "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\n",
      "text/plain": [
       "<Figure size 432x288 with 1 Axes>"
      ]
     },
     "metadata": {
      "needs_background": "light",
      "tags": []
     },
     "output_type": "display_data"
    }
   ],
   "source": [
    "sns.histplot(df['Loan_Amount_Term'])"
   ]
  },
  {
   "cell_type": "code",
   "execution_count": null,
   "metadata": {
    "colab": {
     "base_uri": "https://localhost:8080/",
     "height": 297
    },
    "id": "Lu2-hwtl83Wu",
    "outputId": "c4264ab5-060e-40dd-c945-bb447df68149"
   },
   "outputs": [
    {
     "data": {
      "text/plain": [
       "<matplotlib.axes._subplots.AxesSubplot at 0x7fce6ec71390>"
      ]
     },
     "execution_count": 109,
     "metadata": {
      "tags": []
     },
     "output_type": "execute_result"
    },
    {
     "data": {
      "image/png": "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\n",
      "text/plain": [
       "<Figure size 432x288 with 1 Axes>"
      ]
     },
     "metadata": {
      "needs_background": "light",
      "tags": []
     },
     "output_type": "display_data"
    }
   ],
   "source": [
    " df['Loan_Amount_Term'] = np.log(df['Loan_Amount_Term'])\n",
    "sns.histplot(df['Loan_Amount_Term'])"
   ]
  },
  {
   "cell_type": "code",
   "execution_count": null,
   "metadata": {
    "colab": {
     "base_uri": "https://localhost:8080/",
     "height": 297
    },
    "id": "p_qkyUgb9Mna",
    "outputId": "5dceaf85-e1bf-4ef3-e8ab-529bf98313fe"
   },
   "outputs": [
    {
     "data": {
      "text/plain": [
       "<matplotlib.axes._subplots.AxesSubplot at 0x7fce6ebfcfd0>"
      ]
     },
     "execution_count": 110,
     "metadata": {
      "tags": []
     },
     "output_type": "execute_result"
    },
    {
     "data": {
      "image/png": "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\n",
      "text/plain": [
       "<Figure size 432x288 with 1 Axes>"
      ]
     },
     "metadata": {
      "needs_background": "light",
      "tags": []
     },
     "output_type": "display_data"
    }
   ],
   "source": [
    "sns.histplot(df['Credit_History'])"
   ]
  },
  {
   "cell_type": "code",
   "execution_count": null,
   "metadata": {
    "colab": {
     "base_uri": "https://localhost:8080/",
     "height": 296
    },
    "id": "IVjKt1GYCDBD",
    "outputId": "0715b0f8-a1dd-4b67-8020-d8000b234caf"
   },
   "outputs": [
    {
     "data": {
      "text/plain": [
       "<matplotlib.axes._subplots.AxesSubplot at 0x7fce6f7d5d90>"
      ]
     },
     "execution_count": 113,
     "metadata": {
      "tags": []
     },
     "output_type": "execute_result"
    },
    {
     "data": {
      "image/png": "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\n",
      "text/plain": [
       "<Figure size 432x288 with 1 Axes>"
      ]
     },
     "metadata": {
      "needs_background": "light",
      "tags": []
     },
     "output_type": "display_data"
    }
   ],
   "source": [
    "#Applying log transformation to the attributes\n",
    "df['ApplicantIncomeLog'] = np.log(df['ApplicantIncome'])\n",
    "sns.histplot(df['ApplicantIncomeLog'])"
   ]
  },
  {
   "cell_type": "code",
   "execution_count": null,
   "metadata": {
    "colab": {
     "base_uri": "https://localhost:8080/",
     "height": 296
    },
    "id": "4vgbpy2sZSAB",
    "outputId": "1ef875e6-c97a-4abf-a40a-7f1fd6774b88"
   },
   "outputs": [
    {
     "data": {
      "text/plain": [
       "<matplotlib.axes._subplots.AxesSubplot at 0x7fce6e843510>"
      ]
     },
     "execution_count": 114,
     "metadata": {
      "tags": []
     },
     "output_type": "execute_result"
    },
    {
     "data": {
      "image/png": "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\n",
      "text/plain": [
       "<Figure size 432x288 with 1 Axes>"
      ]
     },
     "metadata": {
      "needs_background": "light",
      "tags": []
     },
     "output_type": "display_data"
    }
   ],
   "source": [
    "df['CoapplicantIncomeLog'] = np.log(df['CoapplicantIncome'])\n",
    "sns.histplot(df['CoapplicantIncomeLog'])"
   ]
  },
  {
   "cell_type": "code",
   "execution_count": null,
   "metadata": {
    "colab": {
     "base_uri": "https://localhost:8080/",
     "height": 296
    },
    "id": "R5hTxaWBZdAC",
    "outputId": "aa54eeb7-864d-4814-85a2-082e442f701a"
   },
   "outputs": [
    {
     "data": {
      "text/plain": [
       "<matplotlib.axes._subplots.AxesSubplot at 0x7fce6e962890>"
      ]
     },
     "execution_count": 115,
     "metadata": {
      "tags": []
     },
     "output_type": "execute_result"
    },
    {
     "data": {
      "image/png": "iVBORw0KGgoAAAANSUhEUgAAAX4AAAEGCAYAAABiq/5QAAAABHNCSVQICAgIfAhkiAAAAAlwSFlzAAALEgAACxIB0t1+/AAAADh0RVh0U29mdHdhcmUAbWF0cGxvdGxpYiB2ZXJzaW9uMy4yLjIsIGh0dHA6Ly9tYXRwbG90bGliLm9yZy+WH4yJAAAS00lEQVR4nO3de7SldV3H8fcHRkITBeQsFheZoTTTNLEGjbSb5BKRglSQS8K4qGmt0jRbBWplF1wLy0rL1DVpDbRUREDBLpYZWi2VHJAkmZBxZGwclJMgmV1s5Nsf+5nlYeZc9pw5z76c3/u11qzZ+/fsvZ/vby6f8+zf8zy/X6oKSVI7Dhp3AZKk0TL4JakxBr8kNcbgl6TGGPyS1Jg14y5gGEcddVStW7du3GVI0lS5+eab/72qZvZun4rgX7duHVu2bBl3GZI0VZLsmK/doR5JaozBL0mNMfglqTEGvyQ1xuCXpMYY/JLUGINfkhpj8EtSYwx+SWrMVNy5K2kyPP/8C9k1e+8+7cfOHMm177xyDBVpOQx+SUPbNXsva89+9T7tO97z2jFUo+VyqEeSGmPwS1JjDH5JaozBL0mNMfglqTEGvyQ1xuCXpMZ4Hb+kA3bnZ+7glGedMe82b+6aPAa/pAO2uw6a98Yu8OauSeRQjyQ1xuCXpMYY/JLUGINfkhrTa/An+YUkn07yL0neleTQJCcmuSnJtiTvTnJInzVIkh6st+BPchzw88D6qnoicDBwLvA64Per6jHAfcDFfdUgSdpX30M9a4CHJlkDPAy4G3gmcE23/QrgrJ5rkCTN0VvwV9UXgNcDn2cQ+PcDNwNfqard3ct2Asf1VYMkaV99DvUcAZwJnAgcC3wrcNp+vH9jki1JtszOzvZUpSS1p8+hnh8FPldVs1X1f8B1wNOBw7uhH4DjgS/M9+aq2lRV66tq/czMTI9lSlJb+gz+zwPfl+RhSQKcCtwO3Ai8oHvNRcD1PdYgSdpLn2P8NzE4iXsLcFu3r03AJcArkmwDHgW8va8aJEn76nWStqp6DfCavZq3A0/tc7+SpIV5564kNcbgl6TGGPyS1BiDX5Ia4wpcknrlsoyTx+CX1CuXZZw8DvVIUmMMfklqjMEvSY0x+CWpMQa/JDXG4Jekxhj8ktQYg1+SGmPwS1JjDH5JaozBL0mNMfglqTEGvyQ1xuCXpMYY/JLUGINfkhpj8EtSYwx+SWqMwS9JjTH4JakxBr8kNcbgl6TGGPyS1BiDX5IaY/BLUmMMfklqjMEvSY0x+CWpMQa/JDXG4Jekxhj8ktQYg1+SGtNr8Cc5PMk1Sf41ydYkpyQ5MskHk9zZ/X5EnzVIkh6s7yP+NwIfqKrvBJ4MbAUuBT5UVY8FPtQ9lySNSG/Bn+SRwA8Cbweoqq9X1VeAM4ErupddAZzVVw2SpH31ecR/IjAL/GmSTyZ5W5JvBY6uqru713wROLrHGiRJe+kz+NcA3wO8paqeAnyNvYZ1qqqAmu/NSTYm2ZJky+zsbI9lSlJb+gz+ncDOqrqpe34Ngx8EX0pyDED3+z3zvbmqNlXV+qpaPzMz02OZktSW3oK/qr4I/FuSx3VNpwK3AzcAF3VtFwHX91WDJGlfa3r+/JcC70hyCLAdeDGDHzZXJ7kY2AGc03MNkqQ5eg3+qroVWD/PplP73K8kaWHeuStJjTH4JakxBr8kNcbgl6TGGPyS1BiDX5IaY/BLUmMMfklqjMEvSY0x+CWpMQa/JDXG4Jekxhj8ktSYvqdllqQF3fmZOzjlWWfs037szJFc+84rx1BRGwx+SWOzuw5i7dmv3qd9x3teO4Zq2jHUUE+Spw/TJkmafMOO8f/hkG2SpAm36FBPklOA7wdmkrxizqZHAAf3WZgkqR9LjfEfAjy8e91hc9r/A3hBX0VJkvqzaPBX1UeAjyTZXFU7RlSTJKlHw17V8y1JNgHr5r6nqp7ZR1GSxuf551/Irtl759227bPbWTvierTyhg3+9wBvBd4GfKO/ciSN267Ze+e9xBJg62UbRluMejFs8O+uqrf0WokkaSSGvZzz/Ul+NskxSY7c86vXyiRJvRj2iP+i7vdfmtNWwLetbDmSpL4NFfxVdWLfhUiSRmOo4E9y4XztVeUsSpI0ZYYd6jl5zuNDgVOBWwCDX5KmzLBDPS+d+zzJ4cBVvVQkSerVchdi+RrguL8kTaFhx/jfz+AqHhhMzvZ44Oq+ipLUtoUWaAEXaVkJw47xv37O493Ajqra2UM9krTgAi3gIi0rYaihnm6ytn9lMEPnEcDX+yxKktSfYVfgOgf4J+Bs4BzgpiROyyxJU2jYoZ5XAydX1T0ASWaAvwWu6aswSVI/hr2q56A9od/58n68V5I0QYY94v9Akr8G3tU9fyHwl/2UJEnq01Jr7j4GOLqqfinJ84BndJs+Bryj7+IkSStvqSP+NwCvBKiq64DrAJI8qdv2Y71WJ0lacUuN0x9dVbft3di1rRtmB0kOTvLJJH/ePT8xyU1JtiV5d5JD9rtqSdKyLRX8hy+y7aFD7uNlwNY5z18H/H5VPQa4D7h4yM+RJK2ApYJ/S5Kf3rsxyU8BNy/14UmOB57LYK1ekgR4Jt+8DPQK4Kz9KViSdGCWGuN/OfDeJBfwzaBfDxwC/MQQn/8G4JcZ3PEL8CjgK1W1u3u+Ezhuvjcm2QhsBDjhhBOG2JUkaRiLHvFX1Zeq6vuB3wDu6n79RlWdUlVfXOy9Sc4A7qmqJb8ZLLDvTVW1vqrWz8zMLOcjJEnzGHY+/huBG/fzs58O/HiS0xks3vII4I3A4UnWdEf9xwNf2M/PlSQdgN7uvq2qV1bV8VW1DjgX+LuquoDBD5A98/xcBFzfVw2SpH0Ne+fuSroEuCrJZcAngbePoQapec8//0J2zd67T/u2z25n7Rjq0eiMJPir6sPAh7vH24GnjmK/kha2a/beeee833rZhtEXo5FyojVJaozBL0mNMfglqTEGvyQ1xuCXpMYY/JLUGINfkhpj8EtSYwx+SWqMwS9JjTH4JakxBr8kNcbgl6TGGPyS1BiDX5IaY/BLUmMMfklqjMEvSY0x+CWpMQa/JDXG4Jekxhj8ktQYg1+SGmPwS1JjDH5JaozBL0mNMfglqTEGvyQ1xuCXpMasGXcBkvrz/PMvZNfsvfNu2/bZ7awdcT2aDAa/tIrtmr2XtWe/et5tWy/bMNpiNDEc6pGkxhj8ktQYg1+SGmPwS1JjDH5JaoxX9UiaKnd+5g5OedYZ+7QfO3Mk177zyjFUNH0MfklTZXcdNO8lqjve89oxVDOdegv+JI8GrgSOBgrYVFVvTHIk8G5gHXAXcE5V3ddXHdJqsdDNWB7pan/1ecS/G/jFqrolyWHAzUk+CGwAPlRVlye5FLgUuKTHOqRVYaGbsTzS1f7q7eRuVd1dVbd0j78KbAWOA84EruhedgVwVl81SJL2NZKrepKsA54C3AQcXVV3d5u+yGAoaL73bEyyJcmW2dnZUZQpSU3oPfiTPBy4Fnh5Vf3H3G1VVQzG//dRVZuqan1VrZ+Zmem7TElqRq/Bn+QhDEL/HVV1Xdf8pSTHdNuPAe7pswZJ0oP1FvxJArwd2FpVvzdn0w3ARd3ji4Dr+6pBkrSvPq/qeTrwIuC2JLd2ba8CLgeuTnIxsAM4p8caJEl76S34q+ofgSyw+dS+9itJWpxz9UhSY5yyQdKqt9gSlC3e+WzwS1r1FluCssU7nx3qkaTGGPyS1BiDX5Ia4xi/pFVhoQVaALZ9djtrR1zPJDP4Ja0KCy3QArD1sg2jLWbCOdQjSY0x+CWpMQa/JDXG4Jekxhj8ktQYg1+SGmPwS1JjvI5fmnLeuKT9ZfBLU84bl7S/DH5JTVvoG9Nqnqff4JfUtIW+Ma3mefo9uStJjTH4JakxBr8kNcYxfmnEFlv4e+ddn+P4dSfOu81LM7VSDH5pxBZb+HvrZRu8NFO9M/glaQUt9I1uki4PNfglaQUt9I1uki4P9eSuJDXGI35JmsdicyBN0rDNchj8kjSPxeZAmqRhm+Uw+KUDsJxLM70sU+Nm8EsHYDmXZnpZpsbNk7uS1BiDX5IaY/BLUmMc49dEWOwk6SRcOrdQfZ6obdNylrucpMtDDX5NhMVOkk7CpXML1eeJ2jYtZ7nLSbo81ODX1FrOtwRnxtQkGvXyjwa/ptZyviU4M6Ym0aiXfxxL8Cc5DXgjcDDwtqq6vK99TfrY8aj45yBpj5EHf5KDgT8CngXsBD6R5Iaqur2P/U362PGo+OcgaY9xXM75VGBbVW2vqq8DVwFnjqEOSWpSqmq0O0xeAJxWVT/VPX8R8LSqesler9sIbOyePg64Y4VKOAr49xX6rEmzmvsG9m+area+weT2b21VzezdOLEnd6tqE7BppT83yZaqWr/SnzsJVnPfwP5Ns9XcN5i+/o1jqOcLwKPnPD++a5MkjcA4gv8TwGOTnJjkEOBc4IYx1CFJTRr5UE9V7U7yEuCvGVzO+SdV9ekRlrDiw0cTZDX3DezfNFvNfYMp69/IT+5KksbL2TklqTEGvyQ1ZlUGf5LTktyRZFuSS+fZfkKSG5N8Msmnkpw+jjqXK8mfJLknyb8ssD1J/qDr/6eSfM+oa1yuIfp2Qden25J8NMmTR13jgViqf3Ned3KS3d19L1NjmP4l+eEktyb5dJKPjLK+AzHEv81HJnl/kn/u+vbiUdc4rFUX/HOmhHgO8ATgvCRP2OtlvwJcXVVPYXBV0ZtHW+UB2wyctsj25wCP7X5tBN4ygppWymYW79vngB+qqicBv8WUnVRj6f7t+Tf8OuBvRlHQCtvMIv1LcjiD/28/XlXfBZw9orpWwmYW/7v7OeD2qnoy8MPA73ZXLk6cVRf8DDclRAGP6B4/Etg1wvoOWFX9PTD/jGsDZwJX1sDHgcOTHDOa6g7MUn2rqo9W1X3d048zuA9kagzxdwfwUuBa4J7+K1pZQ/TvfOC6qvp89/qp6eMQfSvgsCQBHt69dvcoattfqzH4jwP+bc7znV3bXL8O/GSSncBfMviPtpoM82ewGlwM/NW4i1hJSY4DfoLp+pa2P74DOCLJh5PcnOTCcRe0gt4EPJ7BgeRtwMuq6oHxljS/1Rj8wzgP2FxVxwOnA3+WpNU/i6mU5EcYBP8l465lhb0BuGRSA2MFrAG+F3gu8GzgV5N8x3hLWjHPBm4FjgVOAt6U5BGLv2U8JnaungMwzJQQF9ON1VXVx5IcymCSpan52rmEVT0tRpLvBt4GPKeqvjzuelbYeuCqwWgBRwGnJ9ldVe8bb1krZifw5ar6GvC1JH8PPBn4zHjLWhEvBi6vwc1R25J8DvhO4J/GW9a+VuNR7jBTQnweOBUgyeOBQ4HZkVbZrxuAC7ure74PuL+q7h53USshyQnAdcCLqmo1hMWDVNWJVbWuqtYB1wA/u4pCH+B64BlJ1iR5GPA0YOuYa1opc3PlaAazCm8fa0ULWHVH/AtNCZHkN4EtVXUD8IvAHyf5BQYnZDbUFN3CnORdDK4aOKo7T/Ea4CEAVfVWBuctTge2Af/F4EhkKgzRt18DHgW8uTsq3j1NsyIO0b+ptlT/qmprkg8AnwIeYLAC36KXtk6KIf7ufgvYnOQ2IAyG7CZxqmanbJCk1qzGoR5J0iIMfklqjMEvSY0x+CWpMQa/JDXG4NfES/KfI9jHy5P8T5JH9r2vJep41V7Pe++72mPwSwPnMbj573ljruNVS79EOjAGv6ZSkpOSfLybm/+9SY7o2n86ySe6OdGv7e4OJcnmbo2CjybZPnee+yTfzmA2xV9h8ANgT/uGJO9L8sEkdyV5SZJXdOs4fDzJkUvU8uEk67vHRyW5a87nXpfkA0nuTPLbXfvlwEO7uerfsYy+n9y13Zrkd5aa81/tMvg1ra5kcGfkdzOYCfE1Xft1VXVyNyf6VgbzMu1xDPAM4Azg8jnt5zKYvvsfgMd1t9vv8UQG3wJOBl4L/Fe3jsPHgD0zSy5Uy2JOAl4IPAl4YZJHV9WlwH9X1UlVdcEy+v6nwM9U1UnAN4aoQY0y+DV1unH4w6tqz+pNVwA/2D1+YpJ/6G6bvwD4rjlvfV9VPVBVtwNzw/084KpuRsxrefDiIDdW1Veraha4H3h/134bsG6JWhbzoaq6v6r+B7gdWDvEexbse7fAyWFV9bGu/Z3DfJ7atOrm6lHzNgNnVdU/J9nAYG6VPf53zuMAJHkSg5XKPtjN/XMIg1W+3jTPex6Y8/wBlv7/s5tvHlwdute2uZ/7jSE+S1oxHvFr6lTV/cB9SX6ga3oRsOcI+DDg7iQPYXDEv5TzgF/fMyNmVR0LHJtkqCPwJWq5i8Hc8wDDrp37f13t+7W/qvoK8NUkT+vazx1yf2qQRxmaBg/rZkPc4/eAi4C3didvt/PNGUh/FbiJwTTbNzH4QbCYcxnMZDrXe7v2Lw1Z30K1vB64OslG4C+G/KxNwKeS3NKN8+9P3y9mMOvsAwx++Nw/5D7VGGfnlFaJJA+vqv/sHl8KHFNVLxtzWZpAHvFLq8dzk7ySwf/rHcCG8ZajSeURvyQ1xpO7ktQYg1+SGmPwS1JjDH5JaozBL0mN+X/eRZhRUAUkdgAAAABJRU5ErkJggg==\n",
      "text/plain": [
       "<Figure size 432x288 with 1 Axes>"
      ]
     },
     "metadata": {
      "needs_background": "light",
      "tags": []
     },
     "output_type": "display_data"
    }
   ],
   "source": [
    "df['LoanAmountLog'] = np.log(df['LoanAmount'])\n",
    "sns.histplot(df['LoanAmountLog'])"
   ]
  },
  {
   "cell_type": "code",
   "execution_count": null,
   "metadata": {
    "colab": {
     "base_uri": "https://localhost:8080/",
     "height": 297
    },
    "id": "Qpi58A0gZmu2",
    "outputId": "77f0822a-66f7-451f-973f-4e26fdf01a28"
   },
   "outputs": [
    {
     "data": {
      "text/plain": [
       "<matplotlib.axes._subplots.AxesSubplot at 0x7fce6e64fc10>"
      ]
     },
     "execution_count": 116,
     "metadata": {
      "tags": []
     },
     "output_type": "execute_result"
    },
    {
     "data": {
      "image/png": "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\n",
      "text/plain": [
       "<Figure size 432x288 with 1 Axes>"
      ]
     },
     "metadata": {
      "needs_background": "light",
      "tags": []
     },
     "output_type": "display_data"
    }
   ],
   "source": [
    "df['Loan_Amount_Term_Log'] = np.log(df['Loan_Amount_Term'])\n",
    "sns.histplot(df['Loan_Amount_Term_Log'])"
   ]
  },
  {
   "cell_type": "code",
   "execution_count": null,
   "metadata": {
    "colab": {
     "base_uri": "https://localhost:8080/",
     "height": 297
    },
    "id": "InUxGGeoaG2b",
    "outputId": "6e3a4081-cda0-4cbe-e9dc-826b320164cd"
   },
   "outputs": [
    {
     "data": {
      "text/plain": [
       "<matplotlib.axes._subplots.AxesSubplot at 0x7fce6e745110>"
      ]
     },
     "execution_count": 117,
     "metadata": {
      "tags": []
     },
     "output_type": "execute_result"
    },
    {
     "data": {
      "image/png": "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\n",
      "text/plain": [
       "<Figure size 432x288 with 1 Axes>"
      ]
     },
     "metadata": {
      "needs_background": "light",
      "tags": []
     },
     "output_type": "display_data"
    }
   ],
   "source": [
    "df['Total_Income_Log'] = np.log(df['Total_Income'])\n",
    "sns.histplot(df['Total_Income_Log'])"
   ]
  },
  {
   "cell_type": "code",
   "execution_count": null,
   "metadata": {
    "colab": {
     "base_uri": "https://localhost:8080/",
     "height": 722
    },
    "id": "e3wI9NVPbIjz",
    "outputId": "5345507b-78c7-484e-eb37-9f8bfe749cc0"
   },
   "outputs": [
    {
     "data": {
      "text/plain": [
       "<matplotlib.axes._subplots.AxesSubplot at 0x7fce6f81b990>"
      ]
     },
     "execution_count": 118,
     "metadata": {
      "tags": []
     },
     "output_type": "execute_result"
    },
    {
     "data": {
      "image/png": "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\n",
      "text/plain": [
       "<Figure size 1080x720 with 2 Axes>"
      ]
     },
     "metadata": {
      "needs_background": "light",
      "tags": []
     },
     "output_type": "display_data"
    }
   ],
   "source": [
    "# Coorelation Matrix\n",
    "corr = df.corr()\n",
    "plt.figure(figsize=(15,10))\n",
    "sns.heatmap(corr, annot=True, cmap='BrBG')\n"
   ]
  },
  {
   "cell_type": "code",
   "execution_count": null,
   "metadata": {
    "colab": {
     "base_uri": "https://localhost:8080/",
     "height": 232
    },
    "id": "A7FJnzlEbYSu",
    "outputId": "f0c54fae-8bbe-4be1-990b-73b9bbbf3b7e"
   },
   "outputs": [
    {
     "data": {
      "text/html": [
       "<div>\n",
       "<style scoped>\n",
       "    .dataframe tbody tr th:only-of-type {\n",
       "        vertical-align: middle;\n",
       "    }\n",
       "\n",
       "    .dataframe tbody tr th {\n",
       "        vertical-align: top;\n",
       "    }\n",
       "\n",
       "    .dataframe thead th {\n",
       "        text-align: right;\n",
       "    }\n",
       "</style>\n",
       "<table border=\"1\" class=\"dataframe\">\n",
       "  <thead>\n",
       "    <tr style=\"text-align: right;\">\n",
       "      <th></th>\n",
       "      <th>Loan_ID</th>\n",
       "      <th>Gender</th>\n",
       "      <th>Married</th>\n",
       "      <th>Dependents</th>\n",
       "      <th>Education</th>\n",
       "      <th>Self_Employed</th>\n",
       "      <th>ApplicantIncome</th>\n",
       "      <th>CoapplicantIncome</th>\n",
       "      <th>LoanAmount</th>\n",
       "      <th>Loan_Amount_Term</th>\n",
       "      <th>Credit_History</th>\n",
       "      <th>Property_Area</th>\n",
       "      <th>Loan_Status</th>\n",
       "      <th>Total_Income</th>\n",
       "      <th>ApplicantIncomeLog</th>\n",
       "      <th>CoapplicantIncomeLog</th>\n",
       "      <th>LoanAmountLog</th>\n",
       "      <th>Loan_Amount_Term_Log</th>\n",
       "      <th>Total_Income_Log</th>\n",
       "    </tr>\n",
       "  </thead>\n",
       "  <tbody>\n",
       "    <tr>\n",
       "      <th>0</th>\n",
       "      <td>LP001002</td>\n",
       "      <td>Male</td>\n",
       "      <td>No</td>\n",
       "      <td>0</td>\n",
       "      <td>Graduate</td>\n",
       "      <td>No</td>\n",
       "      <td>5849</td>\n",
       "      <td>NaN</td>\n",
       "      <td>4.986426</td>\n",
       "      <td>5.886104</td>\n",
       "      <td>1.0</td>\n",
       "      <td>Urban</td>\n",
       "      <td>Y</td>\n",
       "      <td>5849.0</td>\n",
       "      <td>8.674026</td>\n",
       "      <td>NaN</td>\n",
       "      <td>1.606719</td>\n",
       "      <td>1.772594</td>\n",
       "      <td>8.674026</td>\n",
       "    </tr>\n",
       "    <tr>\n",
       "      <th>1</th>\n",
       "      <td>LP001003</td>\n",
       "      <td>Male</td>\n",
       "      <td>Yes</td>\n",
       "      <td>1</td>\n",
       "      <td>Graduate</td>\n",
       "      <td>No</td>\n",
       "      <td>4583</td>\n",
       "      <td>1.990411</td>\n",
       "      <td>4.852030</td>\n",
       "      <td>5.886104</td>\n",
       "      <td>1.0</td>\n",
       "      <td>Rural</td>\n",
       "      <td>N</td>\n",
       "      <td>6091.0</td>\n",
       "      <td>8.430109</td>\n",
       "      <td>0.688341</td>\n",
       "      <td>1.579397</td>\n",
       "      <td>1.772594</td>\n",
       "      <td>8.714568</td>\n",
       "    </tr>\n",
       "    <tr>\n",
       "      <th>2</th>\n",
       "      <td>LP001005</td>\n",
       "      <td>Male</td>\n",
       "      <td>Yes</td>\n",
       "      <td>0</td>\n",
       "      <td>Graduate</td>\n",
       "      <td>Yes</td>\n",
       "      <td>3000</td>\n",
       "      <td>NaN</td>\n",
       "      <td>4.189655</td>\n",
       "      <td>5.886104</td>\n",
       "      <td>1.0</td>\n",
       "      <td>Urban</td>\n",
       "      <td>Y</td>\n",
       "      <td>3000.0</td>\n",
       "      <td>8.006368</td>\n",
       "      <td>NaN</td>\n",
       "      <td>1.432618</td>\n",
       "      <td>1.772594</td>\n",
       "      <td>8.006368</td>\n",
       "    </tr>\n",
       "    <tr>\n",
       "      <th>3</th>\n",
       "      <td>LP001006</td>\n",
       "      <td>Male</td>\n",
       "      <td>Yes</td>\n",
       "      <td>0</td>\n",
       "      <td>Not Graduate</td>\n",
       "      <td>No</td>\n",
       "      <td>2583</td>\n",
       "      <td>2.049700</td>\n",
       "      <td>4.787492</td>\n",
       "      <td>5.886104</td>\n",
       "      <td>1.0</td>\n",
       "      <td>Urban</td>\n",
       "      <td>Y</td>\n",
       "      <td>4941.0</td>\n",
       "      <td>7.856707</td>\n",
       "      <td>0.717693</td>\n",
       "      <td>1.566007</td>\n",
       "      <td>1.772594</td>\n",
       "      <td>8.505323</td>\n",
       "    </tr>\n",
       "    <tr>\n",
       "      <th>4</th>\n",
       "      <td>LP001008</td>\n",
       "      <td>Male</td>\n",
       "      <td>No</td>\n",
       "      <td>0</td>\n",
       "      <td>Graduate</td>\n",
       "      <td>No</td>\n",
       "      <td>6000</td>\n",
       "      <td>NaN</td>\n",
       "      <td>4.948760</td>\n",
       "      <td>5.886104</td>\n",
       "      <td>1.0</td>\n",
       "      <td>Urban</td>\n",
       "      <td>Y</td>\n",
       "      <td>6000.0</td>\n",
       "      <td>8.699515</td>\n",
       "      <td>NaN</td>\n",
       "      <td>1.599137</td>\n",
       "      <td>1.772594</td>\n",
       "      <td>8.699515</td>\n",
       "    </tr>\n",
       "  </tbody>\n",
       "</table>\n",
       "</div>"
      ],
      "text/plain": [
       "    Loan_ID Gender  ... Loan_Amount_Term_Log Total_Income_Log\n",
       "0  LP001002   Male  ...             1.772594         8.674026\n",
       "1  LP001003   Male  ...             1.772594         8.714568\n",
       "2  LP001005   Male  ...             1.772594         8.006368\n",
       "3  LP001006   Male  ...             1.772594         8.505323\n",
       "4  LP001008   Male  ...             1.772594         8.699515\n",
       "\n",
       "[5 rows x 19 columns]"
      ]
     },
     "execution_count": 119,
     "metadata": {
      "tags": []
     },
     "output_type": "execute_result"
    }
   ],
   "source": [
    "df.head()"
   ]
  },
  {
   "cell_type": "code",
   "execution_count": null,
   "metadata": {
    "colab": {
     "base_uri": "https://localhost:8080/",
     "height": 232
    },
    "id": "UKEMoZCActJI",
    "outputId": "b2a129e1-62e5-482f-d6aa-629253a54d1e"
   },
   "outputs": [
    {
     "data": {
      "text/html": [
       "<div>\n",
       "<style scoped>\n",
       "    .dataframe tbody tr th:only-of-type {\n",
       "        vertical-align: middle;\n",
       "    }\n",
       "\n",
       "    .dataframe tbody tr th {\n",
       "        vertical-align: top;\n",
       "    }\n",
       "\n",
       "    .dataframe thead th {\n",
       "        text-align: right;\n",
       "    }\n",
       "</style>\n",
       "<table border=\"1\" class=\"dataframe\">\n",
       "  <thead>\n",
       "    <tr style=\"text-align: right;\">\n",
       "      <th></th>\n",
       "      <th>Gender</th>\n",
       "      <th>Married</th>\n",
       "      <th>Dependents</th>\n",
       "      <th>Education</th>\n",
       "      <th>Self_Employed</th>\n",
       "      <th>Credit_History</th>\n",
       "      <th>Property_Area</th>\n",
       "      <th>Loan_Status</th>\n",
       "      <th>ApplicantIncomeLog</th>\n",
       "      <th>LoanAmountLog</th>\n",
       "      <th>Loan_Amount_Term_Log</th>\n",
       "      <th>Total_Income_Log</th>\n",
       "    </tr>\n",
       "  </thead>\n",
       "  <tbody>\n",
       "    <tr>\n",
       "      <th>0</th>\n",
       "      <td>Male</td>\n",
       "      <td>No</td>\n",
       "      <td>0</td>\n",
       "      <td>Graduate</td>\n",
       "      <td>No</td>\n",
       "      <td>1.0</td>\n",
       "      <td>Urban</td>\n",
       "      <td>Y</td>\n",
       "      <td>8.674026</td>\n",
       "      <td>1.606719</td>\n",
       "      <td>1.772594</td>\n",
       "      <td>8.674026</td>\n",
       "    </tr>\n",
       "    <tr>\n",
       "      <th>1</th>\n",
       "      <td>Male</td>\n",
       "      <td>Yes</td>\n",
       "      <td>1</td>\n",
       "      <td>Graduate</td>\n",
       "      <td>No</td>\n",
       "      <td>1.0</td>\n",
       "      <td>Rural</td>\n",
       "      <td>N</td>\n",
       "      <td>8.430109</td>\n",
       "      <td>1.579397</td>\n",
       "      <td>1.772594</td>\n",
       "      <td>8.714568</td>\n",
       "    </tr>\n",
       "    <tr>\n",
       "      <th>2</th>\n",
       "      <td>Male</td>\n",
       "      <td>Yes</td>\n",
       "      <td>0</td>\n",
       "      <td>Graduate</td>\n",
       "      <td>Yes</td>\n",
       "      <td>1.0</td>\n",
       "      <td>Urban</td>\n",
       "      <td>Y</td>\n",
       "      <td>8.006368</td>\n",
       "      <td>1.432618</td>\n",
       "      <td>1.772594</td>\n",
       "      <td>8.006368</td>\n",
       "    </tr>\n",
       "    <tr>\n",
       "      <th>3</th>\n",
       "      <td>Male</td>\n",
       "      <td>Yes</td>\n",
       "      <td>0</td>\n",
       "      <td>Not Graduate</td>\n",
       "      <td>No</td>\n",
       "      <td>1.0</td>\n",
       "      <td>Urban</td>\n",
       "      <td>Y</td>\n",
       "      <td>7.856707</td>\n",
       "      <td>1.566007</td>\n",
       "      <td>1.772594</td>\n",
       "      <td>8.505323</td>\n",
       "    </tr>\n",
       "    <tr>\n",
       "      <th>4</th>\n",
       "      <td>Male</td>\n",
       "      <td>No</td>\n",
       "      <td>0</td>\n",
       "      <td>Graduate</td>\n",
       "      <td>No</td>\n",
       "      <td>1.0</td>\n",
       "      <td>Urban</td>\n",
       "      <td>Y</td>\n",
       "      <td>8.699515</td>\n",
       "      <td>1.599137</td>\n",
       "      <td>1.772594</td>\n",
       "      <td>8.699515</td>\n",
       "    </tr>\n",
       "  </tbody>\n",
       "</table>\n",
       "</div>"
      ],
      "text/plain": [
       "  Gender Married  ... Loan_Amount_Term_Log Total_Income_Log\n",
       "0   Male      No  ...             1.772594         8.674026\n",
       "1   Male     Yes  ...             1.772594         8.714568\n",
       "2   Male     Yes  ...             1.772594         8.006368\n",
       "3   Male     Yes  ...             1.772594         8.505323\n",
       "4   Male      No  ...             1.772594         8.699515\n",
       "\n",
       "[5 rows x 12 columns]"
      ]
     },
     "execution_count": 120,
     "metadata": {
      "tags": []
     },
     "output_type": "execute_result"
    }
   ],
   "source": [
    "# drop unneccesary columns\n",
    "cols = [\"ApplicantIncome\", \"CoapplicantIncome\", \"LoanAmount\", \"Loan_Amount_Term\", \"Total_Income\", \"Loan_ID\", \"CoapplicantIncomeLog\"]\n",
    "df = df.drop(columns=cols, axis=1)\n",
    "df.head()"
   ]
  },
  {
   "cell_type": "code",
   "execution_count": null,
   "metadata": {
    "id": "enpgz_aJdtEs"
   },
   "outputs": [],
   "source": [
    "from sklearn.preprocessing import LabelEncoder\n",
    "cols = ['Gender', 'Married', 'Education', 'Self_Employed', 'Property_Area', 'Loan_Status', 'Dependents']\n",
    "le = LabelEncoder()\n",
    "for col in cols:\n",
    "  df[col] = le.fit_transform(df[col])"
   ]
  },
  {
   "cell_type": "code",
   "execution_count": null,
   "metadata": {
    "colab": {
     "base_uri": "https://localhost:8080/",
     "height": 215
    },
    "id": "hU2SuxI3e2Dg",
    "outputId": "dc28065b-64f3-4df8-edc3-c6be9b21cc6f"
   },
   "outputs": [
    {
     "data": {
      "text/html": [
       "<div>\n",
       "<style scoped>\n",
       "    .dataframe tbody tr th:only-of-type {\n",
       "        vertical-align: middle;\n",
       "    }\n",
       "\n",
       "    .dataframe tbody tr th {\n",
       "        vertical-align: top;\n",
       "    }\n",
       "\n",
       "    .dataframe thead th {\n",
       "        text-align: right;\n",
       "    }\n",
       "</style>\n",
       "<table border=\"1\" class=\"dataframe\">\n",
       "  <thead>\n",
       "    <tr style=\"text-align: right;\">\n",
       "      <th></th>\n",
       "      <th>Gender</th>\n",
       "      <th>Married</th>\n",
       "      <th>Dependents</th>\n",
       "      <th>Education</th>\n",
       "      <th>Self_Employed</th>\n",
       "      <th>Credit_History</th>\n",
       "      <th>Property_Area</th>\n",
       "      <th>Loan_Status</th>\n",
       "      <th>ApplicantIncomeLog</th>\n",
       "      <th>LoanAmountLog</th>\n",
       "      <th>Loan_Amount_Term_Log</th>\n",
       "      <th>Total_Income_Log</th>\n",
       "    </tr>\n",
       "  </thead>\n",
       "  <tbody>\n",
       "    <tr>\n",
       "      <th>0</th>\n",
       "      <td>1</td>\n",
       "      <td>0</td>\n",
       "      <td>0</td>\n",
       "      <td>0</td>\n",
       "      <td>0</td>\n",
       "      <td>1.0</td>\n",
       "      <td>2</td>\n",
       "      <td>1</td>\n",
       "      <td>8.674026</td>\n",
       "      <td>1.606719</td>\n",
       "      <td>1.772594</td>\n",
       "      <td>8.674026</td>\n",
       "    </tr>\n",
       "    <tr>\n",
       "      <th>1</th>\n",
       "      <td>1</td>\n",
       "      <td>1</td>\n",
       "      <td>1</td>\n",
       "      <td>0</td>\n",
       "      <td>0</td>\n",
       "      <td>1.0</td>\n",
       "      <td>0</td>\n",
       "      <td>0</td>\n",
       "      <td>8.430109</td>\n",
       "      <td>1.579397</td>\n",
       "      <td>1.772594</td>\n",
       "      <td>8.714568</td>\n",
       "    </tr>\n",
       "    <tr>\n",
       "      <th>2</th>\n",
       "      <td>1</td>\n",
       "      <td>1</td>\n",
       "      <td>0</td>\n",
       "      <td>0</td>\n",
       "      <td>1</td>\n",
       "      <td>1.0</td>\n",
       "      <td>2</td>\n",
       "      <td>1</td>\n",
       "      <td>8.006368</td>\n",
       "      <td>1.432618</td>\n",
       "      <td>1.772594</td>\n",
       "      <td>8.006368</td>\n",
       "    </tr>\n",
       "    <tr>\n",
       "      <th>3</th>\n",
       "      <td>1</td>\n",
       "      <td>1</td>\n",
       "      <td>0</td>\n",
       "      <td>1</td>\n",
       "      <td>0</td>\n",
       "      <td>1.0</td>\n",
       "      <td>2</td>\n",
       "      <td>1</td>\n",
       "      <td>7.856707</td>\n",
       "      <td>1.566007</td>\n",
       "      <td>1.772594</td>\n",
       "      <td>8.505323</td>\n",
       "    </tr>\n",
       "    <tr>\n",
       "      <th>4</th>\n",
       "      <td>1</td>\n",
       "      <td>0</td>\n",
       "      <td>0</td>\n",
       "      <td>0</td>\n",
       "      <td>0</td>\n",
       "      <td>1.0</td>\n",
       "      <td>2</td>\n",
       "      <td>1</td>\n",
       "      <td>8.699515</td>\n",
       "      <td>1.599137</td>\n",
       "      <td>1.772594</td>\n",
       "      <td>8.699515</td>\n",
       "    </tr>\n",
       "  </tbody>\n",
       "</table>\n",
       "</div>"
      ],
      "text/plain": [
       "   Gender  Married  ...  Loan_Amount_Term_Log  Total_Income_Log\n",
       "0       1        0  ...              1.772594          8.674026\n",
       "1       1        1  ...              1.772594          8.714568\n",
       "2       1        1  ...              1.772594          8.006368\n",
       "3       1        1  ...              1.772594          8.505323\n",
       "4       1        0  ...              1.772594          8.699515\n",
       "\n",
       "[5 rows x 12 columns]"
      ]
     },
     "execution_count": 122,
     "metadata": {
      "tags": []
     },
     "output_type": "execute_result"
    }
   ],
   "source": [
    "df.head()"
   ]
  },
  {
   "cell_type": "code",
   "execution_count": null,
   "metadata": {
    "id": "PIAhXYASe3LP"
   },
   "outputs": [],
   "source": [
    "# Train test split\n",
    "X = df.drop(columns=['Loan_Status'], axis=1)\n",
    "y = df['Loan_Status']"
   ]
  },
  {
   "cell_type": "code",
   "execution_count": null,
   "metadata": {
    "id": "45ktKujTfzND"
   },
   "outputs": [],
   "source": [
    "from sklearn.model_selection import train_test_split\n",
    "x_train, x_test, y_train, y_test = train_test_split(X, y, test_size=0.25, random_state=42)"
   ]
  },
  {
   "cell_type": "code",
   "execution_count": null,
   "metadata": {
    "id": "ADmYhJBugKjC"
   },
   "outputs": [],
   "source": [
    "# Model Training\n",
    "# classify function\n",
    "from sklearn.model_selection import cross_val_score\n",
    "\n",
    "def classify(model, x , y):\n",
    "  x_train, x_test, y_train, y_test = train_test_split(X, y, test_size=0.3, random_state=42)\n",
    "  model.fit(x_train, y_train)\n",
    "  print(\"Accuracy is\", model.score(x_test, y_test)*100)\n",
    "  #Cross Validation --> it is use for better validation of model\n",
    "  # eg: cv=5 , train=4, test=1\n",
    "  score = cross_val_score(model, x, y, cv=5)\n",
    "  print(\"Cross validation is\", np.mean(score)*100)"
   ]
  },
  {
   "cell_type": "code",
   "execution_count": null,
   "metadata": {
    "colab": {
     "base_uri": "https://localhost:8080/"
    },
    "id": "d7COWrTMirP_",
    "outputId": "86896a6b-9a10-4693-a645-dbf18d03b990"
   },
   "outputs": [
    {
     "name": "stdout",
     "output_type": "stream",
     "text": [
      "Accuracy is 78.37837837837837\n",
      "Cross validation is 80.9462881514061\n"
     ]
    },
    {
     "name": "stderr",
     "output_type": "stream",
     "text": [
      "/usr/local/lib/python3.7/dist-packages/sklearn/linear_model/_logistic.py:940: ConvergenceWarning: lbfgs failed to converge (status=1):\n",
      "STOP: TOTAL NO. of ITERATIONS REACHED LIMIT.\n",
      "\n",
      "Increase the number of iterations (max_iter) or scale the data as shown in:\n",
      "    https://scikit-learn.org/stable/modules/preprocessing.html\n",
      "Please also refer to the documentation for alternative solver options:\n",
      "    https://scikit-learn.org/stable/modules/linear_model.html#logistic-regression\n",
      "  extra_warning_msg=_LOGISTIC_SOLVER_CONVERGENCE_MSG)\n",
      "/usr/local/lib/python3.7/dist-packages/sklearn/linear_model/_logistic.py:940: ConvergenceWarning: lbfgs failed to converge (status=1):\n",
      "STOP: TOTAL NO. of ITERATIONS REACHED LIMIT.\n",
      "\n",
      "Increase the number of iterations (max_iter) or scale the data as shown in:\n",
      "    https://scikit-learn.org/stable/modules/preprocessing.html\n",
      "Please also refer to the documentation for alternative solver options:\n",
      "    https://scikit-learn.org/stable/modules/linear_model.html#logistic-regression\n",
      "  extra_warning_msg=_LOGISTIC_SOLVER_CONVERGENCE_MSG)\n",
      "/usr/local/lib/python3.7/dist-packages/sklearn/linear_model/_logistic.py:940: ConvergenceWarning: lbfgs failed to converge (status=1):\n",
      "STOP: TOTAL NO. of ITERATIONS REACHED LIMIT.\n",
      "\n",
      "Increase the number of iterations (max_iter) or scale the data as shown in:\n",
      "    https://scikit-learn.org/stable/modules/preprocessing.html\n",
      "Please also refer to the documentation for alternative solver options:\n",
      "    https://scikit-learn.org/stable/modules/linear_model.html#logistic-regression\n",
      "  extra_warning_msg=_LOGISTIC_SOLVER_CONVERGENCE_MSG)\n",
      "/usr/local/lib/python3.7/dist-packages/sklearn/linear_model/_logistic.py:940: ConvergenceWarning: lbfgs failed to converge (status=1):\n",
      "STOP: TOTAL NO. of ITERATIONS REACHED LIMIT.\n",
      "\n",
      "Increase the number of iterations (max_iter) or scale the data as shown in:\n",
      "    https://scikit-learn.org/stable/modules/preprocessing.html\n",
      "Please also refer to the documentation for alternative solver options:\n",
      "    https://scikit-learn.org/stable/modules/linear_model.html#logistic-regression\n",
      "  extra_warning_msg=_LOGISTIC_SOLVER_CONVERGENCE_MSG)\n",
      "/usr/local/lib/python3.7/dist-packages/sklearn/linear_model/_logistic.py:940: ConvergenceWarning: lbfgs failed to converge (status=1):\n",
      "STOP: TOTAL NO. of ITERATIONS REACHED LIMIT.\n",
      "\n",
      "Increase the number of iterations (max_iter) or scale the data as shown in:\n",
      "    https://scikit-learn.org/stable/modules/preprocessing.html\n",
      "Please also refer to the documentation for alternative solver options:\n",
      "    https://scikit-learn.org/stable/modules/linear_model.html#logistic-regression\n",
      "  extra_warning_msg=_LOGISTIC_SOLVER_CONVERGENCE_MSG)\n"
     ]
    }
   ],
   "source": [
    "from sklearn.linear_model import LogisticRegression\n",
    "model = LogisticRegression()\n",
    "classify(model, X, y)"
   ]
  },
  {
   "cell_type": "code",
   "execution_count": null,
   "metadata": {
    "colab": {
     "base_uri": "https://localhost:8080/"
    },
    "id": "ih4FJswyjUA8",
    "outputId": "045176f3-50f6-4b7b-a798-25578d44eafa"
   },
   "outputs": [
    {
     "name": "stdout",
     "output_type": "stream",
     "text": [
      "Accuracy is 76.75675675675676\n",
      "Cross validation is 70.35985605757696\n"
     ]
    }
   ],
   "source": [
    "from sklearn.tree import DecisionTreeClassifier\n",
    "model = DecisionTreeClassifier()\n",
    "classify(model, X, y)"
   ]
  },
  {
   "cell_type": "code",
   "execution_count": null,
   "metadata": {
    "colab": {
     "base_uri": "https://localhost:8080/"
    },
    "id": "vXdia27CMWHQ",
    "outputId": "18f28bc4-845f-4294-9ce7-760a1944e66d"
   },
   "outputs": [
    {
     "name": "stdout",
     "output_type": "stream",
     "text": [
      "Accuracy is 78.91891891891892\n",
      "Cross validation is 78.6711981873917\n"
     ]
    }
   ],
   "source": [
    "from sklearn.ensemble import RandomForestClassifier, ExtraTreesClassifier\n",
    "model = RandomForestClassifier()\n",
    "classify(model, X, y)"
   ]
  },
  {
   "cell_type": "code",
   "execution_count": null,
   "metadata": {
    "colab": {
     "base_uri": "https://localhost:8080/"
    },
    "id": "g_OdpiaXMmzz",
    "outputId": "b72c4954-f7bb-48a5-8fb1-df5fe77d109f"
   },
   "outputs": [
    {
     "name": "stdout",
     "output_type": "stream",
     "text": [
      "Accuracy is 74.05405405405405\n",
      "Cross validation is 76.06290817006528\n"
     ]
    }
   ],
   "source": [
    "model = ExtraTreesClassifier()\n",
    "classify(model, X, y)"
   ]
  },
  {
   "cell_type": "code",
   "execution_count": null,
   "metadata": {
    "colab": {
     "base_uri": "https://localhost:8080/"
    },
    "id": "FgibN8DjMwV-",
    "outputId": "b41d57be-b9e9-4b3a-eec3-a3585f1fd63b"
   },
   "outputs": [
    {
     "name": "stdout",
     "output_type": "stream",
     "text": [
      "Accuracy is 76.21621621621621\n",
      "Cross validation is 79.31360789017727\n"
     ]
    }
   ],
   "source": [
    "# Hyperparameter Tuning\n",
    "model = RandomForestClassifier(n_estimators=50, min_samples_split=25, max_depth=7, max_features=1)\n",
    "classify(model, X, y)"
   ]
  },
  {
   "cell_type": "code",
   "execution_count": null,
   "metadata": {
    "colab": {
     "base_uri": "https://localhost:8080/"
    },
    "id": "RhezGud-NW_w",
    "outputId": "b2e758ac-1883-4f6b-a48f-53fe7145b5b7"
   },
   "outputs": [
    {
     "data": {
      "text/plain": [
       "RandomForestClassifier(bootstrap=True, ccp_alpha=0.0, class_weight=None,\n",
       "                       criterion='gini', max_depth=None, max_features='auto',\n",
       "                       max_leaf_nodes=None, max_samples=None,\n",
       "                       min_impurity_decrease=0.0, min_impurity_split=None,\n",
       "                       min_samples_leaf=1, min_samples_split=2,\n",
       "                       min_weight_fraction_leaf=0.0, n_estimators=100,\n",
       "                       n_jobs=None, oob_score=False, random_state=None,\n",
       "                       verbose=0, warm_start=False)"
      ]
     },
     "execution_count": 150,
     "metadata": {
      "tags": []
     },
     "output_type": "execute_result"
    }
   ],
   "source": [
    "model = RandomForestClassifier()\n",
    "model.fit(x_train,y_train)"
   ]
  },
  {
   "cell_type": "code",
   "execution_count": null,
   "metadata": {
    "colab": {
     "base_uri": "https://localhost:8080/"
    },
    "id": "Yr7IZTnzN2Jw",
    "outputId": "0b0e7c33-d6c1-464f-cd9a-e23568c41471"
   },
   "outputs": [
    {
     "data": {
      "text/plain": [
       "array([[25, 29],\n",
       "       [ 3, 97]])"
      ]
     },
     "execution_count": 152,
     "metadata": {
      "tags": []
     },
     "output_type": "execute_result"
    }
   ],
   "source": [
    "from sklearn.metrics import confusion_matrix\n",
    "y_pred = model.predict(x_test)\n",
    "cm = confusion_matrix(y_test, y_pred)\n",
    "cm"
   ]
  },
  {
   "cell_type": "code",
   "execution_count": null,
   "metadata": {
    "colab": {
     "base_uri": "https://localhost:8080/",
     "height": 282
    },
    "id": "XO6UlGJXOKbT",
    "outputId": "27372a81-9b30-4ff6-fa7e-3c972c821fe3"
   },
   "outputs": [
    {
     "data": {
      "text/plain": [
       "<matplotlib.axes._subplots.AxesSubplot at 0x7fce5f3439d0>"
      ]
     },
     "execution_count": 153,
     "metadata": {
      "tags": []
     },
     "output_type": "execute_result"
    },
    {
     "data": {
      "image/png": "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\n",
      "text/plain": [
       "<Figure size 432x288 with 2 Axes>"
      ]
     },
     "metadata": {
      "needs_background": "light",
      "tags": []
     },
     "output_type": "display_data"
    }
   ],
   "source": [
    "sns.heatmap(cm, annot=True)"
   ]
  },
  {
   "cell_type": "code",
   "execution_count": null,
   "metadata": {
    "id": "WmHYkKPjORrZ"
   },
   "outputs": [],
   "source": []
  }
 ],
 "metadata": {
  "colab": {
   "collapsed_sections": [],
   "name": "Loan Prediction using Machine Learning.ipynb",
   "provenance": []
  },
  "kernelspec": {
   "display_name": "Python 3 (ipykernel)",
   "language": "python",
   "name": "python3"
  },
  "language_info": {
   "codemirror_mode": {
    "name": "ipython",
    "version": 3
   },
   "file_extension": ".py",
   "mimetype": "text/x-python",
   "name": "python",
   "nbconvert_exporter": "python",
   "pygments_lexer": "ipython3",
   "version": "3.9.12"
  }
 },
 "nbformat": 4,
 "nbformat_minor": 
}
