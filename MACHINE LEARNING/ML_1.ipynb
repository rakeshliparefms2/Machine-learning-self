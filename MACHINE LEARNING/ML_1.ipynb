{
 "cells": [
  {
   "cell_type": "code",
   "execution_count": 1,
   "id": "e38a8468",
   "metadata": {},
   "outputs": [
    {
     "name": "stderr",
     "output_type": "stream",
     "text": [
      "C:\\Users\\Rakesh\\anaconda3\\lib\\site-packages\\scipy\\__init__.py:146: UserWarning: A NumPy version >=1.16.5 and <1.23.0 is required for this version of SciPy (detected version 1.23.3\n",
      "  warnings.warn(f\"A NumPy version >={np_minversion} and <{np_maxversion}\"\n"
     ]
    }
   ],
   "source": [
    "import numpy as np\n",
    "import pandas as pd\n",
    "import matplotlib.pyplot as plt\n",
    "import seaborn as sns"
   ]
  },
  {
   "cell_type": "code",
   "execution_count": 4,
   "id": "deeb3631",
   "metadata": {},
   "outputs": [],
   "source": [
    "ht=[[151],[174],[138],[186],[128],[136],[179],[163],[152],[131]]\n",
    "# input in ML must be in 2D\n",
    "\n",
    "wt=[[63],[81],[56],[91],[47],[57],[76],[72],[62],[48]]"
   ]
  },
  {
   "cell_type": "code",
   "execution_count": 6,
   "id": "e85bae13",
   "metadata": {},
   "outputs": [
    {
     "data": {
      "image/png": "[encoded data removed]",
      "text/plain": [
       "<Figure size 432x288 with 1 Axes>"
      ]
     },
     "metadata": {
      "needs_background": "light"
     },
     "output_type": "display_data"
    }
   ],
   "source": [
    "plt.scatter(ht,wt)\n",
    "plt.show()"
   ]
  },
  {
   "cell_type": "code",
   "execution_count": 7,
   "id": "1fdba520",
   "metadata": {},
   "outputs": [],
   "source": [
    "#import lib for reg \n",
    "from sklearn.linear_model import LinearRegression"
   ]
  },
  {
   "cell_type": "code",
   "execution_count": 70,
   "id": "29ccd286",
   "metadata": {},
   "outputs": [],
   "source": [
    "lr1=LinearRegression()"
   ]
  },
  {
   "cell_type": "code",
   "execution_count": 71,
   "id": "db22eadb",
   "metadata": {},
   "outputs": [
    {
     "data": {
      "text/plain": [
       "LinearRegression()"
      ]
     },
     "execution_count": 71,
     "metadata": {},
     "output_type": "execute_result"
    }
   ],
   "source": [
    "# Model Training \n",
    "lr1.fit(ht,wt)"
   ]
  },
  {
   "cell_type": "code",
   "execution_count": 72,
   "id": "ef90166d",
   "metadata": {},
   "outputs": [
    {
     "data": {
      "text/plain": [
       "array([[86.34784601]])"
      ]
     },
     "execution_count": 72,
     "metadata": {},
     "output_type": "execute_result"
    }
   ],
   "source": [
    "#Model testing\n",
    "lr1.predict([[185]])"
   ]
  },
  {
   "cell_type": "code",
   "execution_count": 73,
   "id": "1076d36f",
   "metadata": {},
   "outputs": [
    {
     "data": {
      "text/plain": [
       "array([[68.13336389]])"
      ]
     },
     "execution_count": 73,
     "metadata": {},
     "output_type": "execute_result"
    }
   ],
   "source": [
    "lr1.predict([[158]])"
   ]
  },
  {
   "cell_type": "code",
   "execution_count": 74,
   "id": "a77b5034",
   "metadata": {},
   "outputs": [
    {
     "data": {
      "text/plain": [
       "array([[93.0939505]])"
      ]
     },
     "execution_count": 74,
     "metadata": {},
     "output_type": "execute_result"
    }
   ],
   "source": [
    "lr1.predict([[195]])"
   ]
  },
  {
   "cell_type": "code",
   "execution_count": 75,
   "id": "4f41e64f",
   "metadata": {},
   "outputs": [
    {
     "data": {
      "text/plain": [
       "array([[68.80797434]])"
      ]
     },
     "execution_count": 75,
     "metadata": {},
     "output_type": "execute_result"
    }
   ],
   "source": [
    "lr1.predict([[159]])"
   ]
  },
  {
   "cell_type": "code",
   "execution_count": 76,
   "id": "27c3197c",
   "metadata": {},
   "outputs": [
    {
     "data": {
      "text/plain": [
       "array([[63.41109074],\n",
       "       [78.92713107],\n",
       "       [54.6411549 ],\n",
       "       [87.02245646],\n",
       "       [47.89505041],\n",
       "       [53.29193401],\n",
       "       [82.30018332],\n",
       "       [71.50641613],\n",
       "       [64.08570119],\n",
       "       [49.91888176]])"
      ]
     },
     "execution_count": 76,
     "metadata": {},
     "output_type": "execute_result"
    }
   ],
   "source": [
    "y_pred=lr1.predict(ht)\n",
    "y_pred"
   ]
  },
  {
   "cell_type": "code",
   "execution_count": 23,
   "id": "16baf4ca",
   "metadata": {},
   "outputs": [
    {
     "data": {
      "image/png": "[encoded data removed]",
      "text/plain": [
       "<Figure size 432x288 with 1 Axes>"
      ]
     },
     "metadata": {
      "needs_background": "light"
     },
     "output_type": "display_data"
    }
   ],
   "source": [
    "plt.scatter(ht,wt)\n",
    "plt.plot(ht,y_pred,color='r')\n",
    "plt.show()"
   ]
  },
  {
   "cell_type": "code",
   "execution_count": 77,
   "id": "778e4a35",
   "metadata": {},
   "outputs": [
    {
     "data": {
      "text/plain": [
       "array([[0.67461045]])"
      ]
     },
     "execution_count": 77,
     "metadata": {},
     "output_type": "execute_result"
    }
   ],
   "source": [
    "m=lr1.coef_\n",
    "m"
   ]
  },
  {
   "cell_type": "code",
   "execution_count": 78,
   "id": "d338b7a4",
   "metadata": {},
   "outputs": [
    {
     "data": {
      "text/plain": [
       "array([-38.45508708])"
      ]
     },
     "execution_count": 78,
     "metadata": {},
     "output_type": "execute_result"
    }
   ],
   "source": [
    "c=lr1.intercept_\n",
    "c"
   ]
  },
  {
   "cell_type": "code",
   "execution_count": 28,
   "id": "a520ed5c",
   "metadata": {},
   "outputs": [
    {
     "data": {
      "text/plain": [
       "array([[73.53024748]])"
      ]
     },
     "execution_count": 28,
     "metadata": {},
     "output_type": "execute_result"
    }
   ],
   "source": [
    "m*166+c"
   ]
  },
  {
   "cell_type": "markdown",
   "id": "d4be58d2",
   "metadata": {},
   "source": [
    "# SCORE"
   ]
  },
  {
   "cell_type": "code",
   "execution_count": 82,
   "id": "fd0de02f",
   "metadata": {},
   "outputs": [
    {
     "data": {
      "text/plain": [
       "0.9547822477500306"
      ]
     },
     "execution_count": 82,
     "metadata": {},
     "output_type": "execute_result"
    }
   ],
   "source": [
    "lr1.score(ht,wt\n",
    "        )"
   ]
  },
  {
   "cell_type": "markdown",
   "id": "4a81146e",
   "metadata": {},
   "source": [
    "# Another problem"
   ]
  },
  {
   "cell_type": "code",
   "execution_count": 35,
   "id": "3d7d936c",
   "metadata": {},
   "outputs": [
    {
     "name": "stdout",
     "output_type": "stream",
     "text": [
      "[[1000], [1500], [2300], [3540], [4120], [4560], [5490], [3460], [4750], [2300], [9000], [8600], [3700]]\n"
     ]
    }
   ],
   "source": [
    "ar = [[1000],[1500],[2300],[3540],[4120],[4560],[5490],[3460],[4750],[2300],[9000],[8600],[3700]]\n",
    "print(ar)"
   ]
  },
  {
   "cell_type": "code",
   "execution_count": 65,
   "id": "17411ff4",
   "metadata": {},
   "outputs": [
    {
     "name": "stdout",
     "output_type": "stream",
     "text": [
      "[[500000], [600000], [1256977], [2007945], [2500005], [3000000], [3592465], [2136565], [3052697], [1156077], [6000000], [5697000], [1900000]]\n"
     ]
    }
   ],
   "source": [
    "pr=[[500000],[600000],[1256977],[2007945],[2500005],[3000000],[3592465],[2136565],[3052697],[1156077],[6000000],[5697000],\n",
    "    [1900000]]\n",
    "print(pr)"
   ]
  },
  {
   "cell_type": "code",
   "execution_count": 67,
   "id": "00473ef7",
   "metadata": {},
   "outputs": [
    {
     "data": {
      "image/png": "[encoded data removed]",
      "text/plain": [
       "<Figure size 432x288 with 1 Axes>"
      ]
     },
     "metadata": {
      "needs_background": "light"
     },
     "output_type": "display_data"
    }
   ],
   "source": [
    "plt.scatter(ar,pr)\n",
    "plt.plot(ar,pr,color='r')\n",
    "plt.show()"
   ]
  },
  {
   "cell_type": "code",
   "execution_count": 45,
   "id": "3e6263ec",
   "metadata": {},
   "outputs": [],
   "source": [
    "from sklearn.linear_model import LinearRegression"
   ]
  },
  {
   "cell_type": "code",
   "execution_count": 46,
   "id": "2dd98bcc",
   "metadata": {},
   "outputs": [],
   "source": [
    "lr=LinearRegression()"
   ]
  },
  {
   "cell_type": "code",
   "execution_count": 47,
   "id": "7864d840",
   "metadata": {},
   "outputs": [
    {
     "data": {
      "text/plain": [
       "LinearRegression()"
      ]
     },
     "execution_count": 47,
     "metadata": {},
     "output_type": "execute_result"
    }
   ],
   "source": [
    "lr.fit(ar,pr)"
   ]
  },
  {
   "cell_type": "code",
   "execution_count": 48,
   "id": "8ee57701",
   "metadata": {},
   "outputs": [
    {
     "data": {
      "text/plain": [
       "array([680193.74423993])"
      ]
     },
     "execution_count": 48,
     "metadata": {},
     "output_type": "execute_result"
    }
   ],
   "source": [
    "lr.predict([[1522]])"
   ]
  },
  {
   "cell_type": "code",
   "execution_count": 51,
   "id": "ec497692",
   "metadata": {},
   "outputs": [
    {
     "data": {
      "text/plain": [
       "array([ 308998.26055464,  664549.49013825, 1233431.45747203,\n",
       "       2115198.50683939, 2527637.93315638, 2840523.01518996,\n",
       "       3501848.30221548, 2058310.31010601, 2975632.48243173,\n",
       "       1233431.45747203, 5997817.93389243, 5713376.95022554,\n",
       "       2228974.90030614])"
      ]
     },
     "execution_count": 51,
     "metadata": {},
     "output_type": "execute_result"
    }
   ],
   "source": [
    "y_pred1=lr.predict(ar)\n",
    "y_pred1"
   ]
  },
  {
   "cell_type": "code",
   "execution_count": 57,
   "id": "67b57504",
   "metadata": {},
   "outputs": [
    {
     "data": {
      "text/plain": [
       "[<matplotlib.lines.Line2D at 0x29ae5e5fb50>]"
      ]
     },
     "execution_count": 57,
     "metadata": {},
     "output_type": "execute_result"
    },
    {
     "data": {
      "image/png": "[encoded data removed]",
      "text/plain": [
       "<Figure size 432x288 with 1 Axes>"
      ]
     },
     "metadata": {
      "needs_background": "light"
     },
     "output_type": "display_data"
    }
   ],
   "source": [
    "plt.scatter(ar,pr)\n",
    "plt.plot(ar,y_pred1,'r')"
   ]
  },
  {
   "cell_type": "code",
   "execution_count": 69,
   "id": "ce02d69e",
   "metadata": {},
   "outputs": [
    {
     "data": {
      "text/plain": [
       "0.9940407164019781"
      ]
     },
     "execution_count": 69,
     "metadata": {},
     "output_type": "execute_result"
    }
   ],
   "source": [
    "lr.score(ar,pr)"
   ]
  },
  {
   "cell_type": "code",
   "execution_count": 60,
   "id": "ed094c7f",
   "metadata": {},
   "outputs": [
    {
     "data": {
      "text/plain": [
       "array([10762204.41031283])"
      ]
     },
     "execution_count": 60,
     "metadata": {},
     "output_type": "execute_result"
    }
   ],
   "source": [
    "lr.predict([[15700]])"
   ]
  },
  {
   "cell_type": "code",
   "execution_count": 61,
   "id": "c41080c7",
   "metadata": {},
   "outputs": [
    {
     "data": {
      "text/plain": [
       "-402104.1986125852"
      ]
     },
     "execution_count": 61,
     "metadata": {},
     "output_type": "execute_result"
    }
   ],
   "source": [
    "lr.intercept_"
   ]
  },
  {
   "cell_type": "code",
   "execution_count": 62,
   "id": "6480669d",
   "metadata": {},
   "outputs": [
    {
     "data": {
      "text/plain": [
       "array([711.10245917])"
      ]
     },
     "execution_count": 62,
     "metadata": {},
     "output_type": "execute_result"
    }
   ],
   "source": [
    "lr.coef_"
   ]
  },
  {
   "cell_type": "code",
   "execution_count": 85,
   "id": "a49b11d2",
   "metadata": {},
   "outputs": [],
   "source": [
    "from sklearn.metrics import r2_score"
   ]
  },
  {
   "cell_type": "code",
   "execution_count": 86,
   "id": "25bc7965",
   "metadata": {},
   "outputs": [
    {
     "data": {
      "text/plain": [
       "0.9940407164019781"
      ]
     },
     "execution_count": 86,
     "metadata": {},
     "output_type": "execute_result"
    }
   ],
   "source": [
    "r2_score(pr,y_pred1)"
   ]
  },
  {
   "cell_type": "code",
   "execution_count": null,
   "id": "47939e5e",
   "metadata": {},
   "outputs": [],
   "source": []
  }
 ],
 "metadata": {
  "kernelspec": {
   "display_name": "Python 3 (ipykernel)",
   "language": "python",
   "name": "python3"
  },
  "language_info": {
   "codemirror_mode": {
    "name": "ipython",
    "version": 3
   },
   "file_extension": ".py",
   "mimetype": "text/x-python",
   "name": "python",
   "nbconvert_exporter": "python",
   "pygments_lexer": "ipython3",
   "version": "3.9.12"
  }
 },
 "nbformat": 4,
 "nbformat_minor": 5
}
