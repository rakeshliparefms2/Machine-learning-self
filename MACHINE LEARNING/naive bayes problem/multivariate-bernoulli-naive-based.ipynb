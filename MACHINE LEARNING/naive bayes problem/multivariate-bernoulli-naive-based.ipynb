{
 "cells": [
  {
   "cell_type": "code",
   "execution_count": 1,
   "id": "a12a2981",
   "metadata": {
    "execution": {
     "iopub.execute_input": "2022-10-12T18:25:25.362328Z",
     "iopub.status.busy": "2022-10-12T18:25:25.361863Z",
     "iopub.status.idle": "2022-10-12T18:25:25.371861Z",
     "shell.execute_reply": "2022-10-12T18:25:25.370746Z"
    },
    "papermill": {
     "duration": 0.021078,
     "end_time": "2022-10-12T18:25:25.374697",
     "exception": false,
     "start_time": "2022-10-12T18:25:25.353619",
     "status": "completed"
    },
    "tags": []
   },
   "outputs": [],
   "source": [
    "import numpy as np \n",
    "import pandas as pd "
   ]
  },
  {
   "cell_type": "code",
   "execution_count": 2,
   "id": "eeea3474",
   "metadata": {
    "execution": {
     "iopub.execute_input": "2022-10-12T18:25:25.387331Z",
     "iopub.status.busy": "2022-10-12T18:25:25.386878Z",
     "iopub.status.idle": "2022-10-12T18:25:25.412269Z",
     "shell.execute_reply": "2022-10-12T18:25:25.411060Z"
    },
    "papermill": {
     "duration": 0.034994,
     "end_time": "2022-10-12T18:25:25.415343",
     "exception": false,
     "start_time": "2022-10-12T18:25:25.380349",
     "status": "completed"
    },
    "tags": []
   },
   "outputs": [],
   "source": [
    "df = pd.read_csv('../input/full-filled-brain-stroke-dataset/full_filled_stroke_data (1).csv', usecols=['age', 'avg_glucose_level', 'bmi', 'stroke'])"
   ]
  },
  {
   "cell_type": "markdown",
   "id": "9d3573a0",
   "metadata": {
    "papermill": {
     "duration": 0.004713,
     "end_time": "2022-10-12T18:25:25.425187",
     "exception": false,
     "start_time": "2022-10-12T18:25:25.420474",
     "status": "completed"
    },
    "tags": []
   },
   "source": [
    "Using Age, Avg Glucose Level and BMI, I am predicting whether the Patient will undergo Brain Stroke or not."
   ]
  },
  {
   "cell_type": "code",
   "execution_count": 3,
   "id": "ff80e02c",
   "metadata": {
    "execution": {
     "iopub.execute_input": "2022-10-12T18:25:25.436950Z",
     "iopub.status.busy": "2022-10-12T18:25:25.436537Z",
     "iopub.status.idle": "2022-10-12T18:25:25.469761Z",
     "shell.execute_reply": "2022-10-12T18:25:25.468280Z"
    },
    "papermill": {
     "duration": 0.042536,
     "end_time": "2022-10-12T18:25:25.472722",
     "exception": false,
     "start_time": "2022-10-12T18:25:25.430186",
     "status": "completed"
    },
    "tags": []
   },
   "outputs": [
    {
     "data": {
      "text/html": [
       "<div>\n",
       "<style scoped>\n",
       "    .dataframe tbody tr th:only-of-type {\n",
       "        vertical-align: middle;\n",
       "    }\n",
       "\n",
       "    .dataframe tbody tr th {\n",
       "        vertical-align: top;\n",
       "    }\n",
       "\n",
       "    .dataframe thead th {\n",
       "        text-align: right;\n",
       "    }\n",
       "</style>\n",
       "<table border=\"1\" class=\"dataframe\">\n",
       "  <thead>\n",
       "    <tr style=\"text-align: right;\">\n",
       "      <th></th>\n",
       "      <th>age</th>\n",
       "      <th>avg_glucose_level</th>\n",
       "      <th>bmi</th>\n",
       "      <th>stroke</th>\n",
       "    </tr>\n",
       "  </thead>\n",
       "  <tbody>\n",
       "    <tr>\n",
       "      <th>57</th>\n",
       "      <td>40.0</td>\n",
       "      <td>88.27</td>\n",
       "      <td>30.066805</td>\n",
       "      <td>0</td>\n",
       "    </tr>\n",
       "    <tr>\n",
       "      <th>108</th>\n",
       "      <td>19.0</td>\n",
       "      <td>72.39</td>\n",
       "      <td>26.284525</td>\n",
       "      <td>0</td>\n",
       "    </tr>\n",
       "    <tr>\n",
       "      <th>133</th>\n",
       "      <td>68.0</td>\n",
       "      <td>233.30</td>\n",
       "      <td>33.480734</td>\n",
       "      <td>0</td>\n",
       "    </tr>\n",
       "    <tr>\n",
       "      <th>173</th>\n",
       "      <td>75.0</td>\n",
       "      <td>83.88</td>\n",
       "      <td>28.402910</td>\n",
       "      <td>0</td>\n",
       "    </tr>\n",
       "    <tr>\n",
       "      <th>188</th>\n",
       "      <td>78.0</td>\n",
       "      <td>206.53</td>\n",
       "      <td>31.179276</td>\n",
       "      <td>0</td>\n",
       "    </tr>\n",
       "  </tbody>\n",
       "</table>\n",
       "</div>"
      ],
      "text/plain": [
       "      age  avg_glucose_level        bmi  stroke\n",
       "57   40.0              88.27  30.066805       0\n",
       "108  19.0              72.39  26.284525       0\n",
       "133  68.0             233.30  33.480734       0\n",
       "173  75.0              83.88  28.402910       0\n",
       "188  78.0             206.53  31.179276       0"
      ]
     },
     "execution_count": 3,
     "metadata": {},
     "output_type": "execute_result"
    }
   ],
   "source": [
    "df.sample(5)"
   ]
  },
  {
   "cell_type": "code",
   "execution_count": 4,
   "id": "116f034b",
   "metadata": {
    "execution": {
     "iopub.execute_input": "2022-10-12T18:25:25.485331Z",
     "iopub.status.busy": "2022-10-12T18:25:25.484939Z",
     "iopub.status.idle": "2022-10-12T18:25:26.685674Z",
     "shell.execute_reply": "2022-10-12T18:25:26.684174Z"
    },
    "papermill": {
     "duration": 1.210278,
     "end_time": "2022-10-12T18:25:26.688448",
     "exception": false,
     "start_time": "2022-10-12T18:25:25.478170",
     "status": "completed"
    },
    "tags": []
   },
   "outputs": [],
   "source": [
    "from sklearn.model_selection import train_test_split\n",
    "\n",
    "x_train,x_test, y_train, y_test = train_test_split(df.iloc[:, 0:3], df['stroke'], test_size=0.30, random_state=42)"
   ]
  },
  {
   "cell_type": "code",
   "execution_count": 5,
   "id": "e976aff6",
   "metadata": {
    "execution": {
     "iopub.execute_input": "2022-10-12T18:25:26.702226Z",
     "iopub.status.busy": "2022-10-12T18:25:26.701782Z",
     "iopub.status.idle": "2022-10-12T18:25:26.720193Z",
     "shell.execute_reply": "2022-10-12T18:25:26.719248Z"
    },
    "papermill": {
     "duration": 0.027751,
     "end_time": "2022-10-12T18:25:26.722624",
     "exception": false,
     "start_time": "2022-10-12T18:25:26.694873",
     "status": "completed"
    },
    "tags": []
   },
   "outputs": [
    {
     "data": {
      "text/html": [
       "<div>\n",
       "<style scoped>\n",
       "    .dataframe tbody tr th:only-of-type {\n",
       "        vertical-align: middle;\n",
       "    }\n",
       "\n",
       "    .dataframe tbody tr th {\n",
       "        vertical-align: top;\n",
       "    }\n",
       "\n",
       "    .dataframe thead th {\n",
       "        text-align: right;\n",
       "    }\n",
       "</style>\n",
       "<table border=\"1\" class=\"dataframe\">\n",
       "  <thead>\n",
       "    <tr style=\"text-align: right;\">\n",
       "      <th></th>\n",
       "      <th>age</th>\n",
       "      <th>avg_glucose_level</th>\n",
       "      <th>bmi</th>\n",
       "    </tr>\n",
       "  </thead>\n",
       "  <tbody>\n",
       "    <tr>\n",
       "      <th>97</th>\n",
       "      <td>30.0</td>\n",
       "      <td>88.20</td>\n",
       "      <td>29.280322</td>\n",
       "    </tr>\n",
       "    <tr>\n",
       "      <th>31</th>\n",
       "      <td>78.0</td>\n",
       "      <td>60.67</td>\n",
       "      <td>27.086276</td>\n",
       "    </tr>\n",
       "    <tr>\n",
       "      <th>12</th>\n",
       "      <td>75.0</td>\n",
       "      <td>104.72</td>\n",
       "      <td>28.318273</td>\n",
       "    </tr>\n",
       "    <tr>\n",
       "      <th>35</th>\n",
       "      <td>79.0</td>\n",
       "      <td>114.77</td>\n",
       "      <td>27.243396</td>\n",
       "    </tr>\n",
       "    <tr>\n",
       "      <th>119</th>\n",
       "      <td>76.0</td>\n",
       "      <td>67.03</td>\n",
       "      <td>28.028716</td>\n",
       "    </tr>\n",
       "    <tr>\n",
       "      <th>...</th>\n",
       "      <td>...</td>\n",
       "      <td>...</td>\n",
       "      <td>...</td>\n",
       "    </tr>\n",
       "    <tr>\n",
       "      <th>106</th>\n",
       "      <td>35.0</td>\n",
       "      <td>77.48</td>\n",
       "      <td>29.832593</td>\n",
       "    </tr>\n",
       "    <tr>\n",
       "      <th>14</th>\n",
       "      <td>51.0</td>\n",
       "      <td>165.31</td>\n",
       "      <td>30.491107</td>\n",
       "    </tr>\n",
       "    <tr>\n",
       "      <th>92</th>\n",
       "      <td>69.0</td>\n",
       "      <td>107.11</td>\n",
       "      <td>30.624832</td>\n",
       "    </tr>\n",
       "    <tr>\n",
       "      <th>179</th>\n",
       "      <td>17.0</td>\n",
       "      <td>92.97</td>\n",
       "      <td>26.527514</td>\n",
       "    </tr>\n",
       "    <tr>\n",
       "      <th>102</th>\n",
       "      <td>67.0</td>\n",
       "      <td>92.73</td>\n",
       "      <td>29.081489</td>\n",
       "    </tr>\n",
       "  </tbody>\n",
       "</table>\n",
       "<p>140 rows × 3 columns</p>\n",
       "</div>"
      ],
      "text/plain": [
       "      age  avg_glucose_level        bmi\n",
       "97   30.0              88.20  29.280322\n",
       "31   78.0              60.67  27.086276\n",
       "12   75.0             104.72  28.318273\n",
       "35   79.0             114.77  27.243396\n",
       "119  76.0              67.03  28.028716\n",
       "..    ...                ...        ...\n",
       "106  35.0              77.48  29.832593\n",
       "14   51.0             165.31  30.491107\n",
       "92   69.0             107.11  30.624832\n",
       "179  17.0              92.97  26.527514\n",
       "102  67.0              92.73  29.081489\n",
       "\n",
       "[140 rows x 3 columns]"
      ]
     },
     "execution_count": 5,
     "metadata": {},
     "output_type": "execute_result"
    }
   ],
   "source": [
    "x_train"
   ]
  },
  {
   "cell_type": "code",
   "execution_count": 6,
   "id": "d7e1aa67",
   "metadata": {
    "execution": {
     "iopub.execute_input": "2022-10-12T18:25:26.736309Z",
     "iopub.status.busy": "2022-10-12T18:25:26.735428Z",
     "iopub.status.idle": "2022-10-12T18:25:26.742825Z",
     "shell.execute_reply": "2022-10-12T18:25:26.741573Z"
    },
    "papermill": {
     "duration": 0.016851,
     "end_time": "2022-10-12T18:25:26.745155",
     "exception": false,
     "start_time": "2022-10-12T18:25:26.728304",
     "status": "completed"
    },
    "tags": []
   },
   "outputs": [
    {
     "data": {
      "text/plain": [
       "(140, 3)"
      ]
     },
     "execution_count": 6,
     "metadata": {},
     "output_type": "execute_result"
    }
   ],
   "source": [
    "x_train.shape"
   ]
  },
  {
   "cell_type": "code",
   "execution_count": 7,
   "id": "414e0d8a",
   "metadata": {
    "execution": {
     "iopub.execute_input": "2022-10-12T18:25:26.759427Z",
     "iopub.status.busy": "2022-10-12T18:25:26.758588Z",
     "iopub.status.idle": "2022-10-12T18:25:26.767417Z",
     "shell.execute_reply": "2022-10-12T18:25:26.766280Z"
    },
    "papermill": {
     "duration": 0.018524,
     "end_time": "2022-10-12T18:25:26.769784",
     "exception": false,
     "start_time": "2022-10-12T18:25:26.751260",
     "status": "completed"
    },
    "tags": []
   },
   "outputs": [
    {
     "data": {
      "text/plain": [
       "97     0\n",
       "31     1\n",
       "12     1\n",
       "35     1\n",
       "119    0\n",
       "      ..\n",
       "106    0\n",
       "14     1\n",
       "92     0\n",
       "179    0\n",
       "102    0\n",
       "Name: stroke, Length: 140, dtype: int64"
      ]
     },
     "execution_count": 7,
     "metadata": {},
     "output_type": "execute_result"
    }
   ],
   "source": [
    "y_train"
   ]
  },
  {
   "cell_type": "code",
   "execution_count": 8,
   "id": "b7a0b919",
   "metadata": {
    "execution": {
     "iopub.execute_input": "2022-10-12T18:25:26.783413Z",
     "iopub.status.busy": "2022-10-12T18:25:26.782614Z",
     "iopub.status.idle": "2022-10-12T18:25:26.791153Z",
     "shell.execute_reply": "2022-10-12T18:25:26.789519Z"
    },
    "papermill": {
     "duration": 0.018648,
     "end_time": "2022-10-12T18:25:26.794149",
     "exception": false,
     "start_time": "2022-10-12T18:25:26.775501",
     "status": "completed"
    },
    "tags": []
   },
   "outputs": [
    {
     "data": {
      "text/plain": [
       "(61, 3)"
      ]
     },
     "execution_count": 8,
     "metadata": {},
     "output_type": "execute_result"
    }
   ],
   "source": [
    "x_test.shape"
   ]
  },
  {
   "cell_type": "markdown",
   "id": "f1f63952",
   "metadata": {
    "papermill": {
     "duration": 0.005466,
     "end_time": "2022-10-12T18:25:26.805378",
     "exception": false,
     "start_time": "2022-10-12T18:25:26.799912",
     "status": "completed"
    },
    "tags": []
   },
   "source": [
    "Applying Standardization on The 3 Numerical Columns:"
   ]
  },
  {
   "cell_type": "code",
   "execution_count": 9,
   "id": "01305162",
   "metadata": {
    "execution": {
     "iopub.execute_input": "2022-10-12T18:25:26.819636Z",
     "iopub.status.busy": "2022-10-12T18:25:26.818292Z",
     "iopub.status.idle": "2022-10-12T18:25:26.829979Z",
     "shell.execute_reply": "2022-10-12T18:25:26.828798Z"
    },
    "papermill": {
     "duration": 0.021359,
     "end_time": "2022-10-12T18:25:26.832584",
     "exception": false,
     "start_time": "2022-10-12T18:25:26.811225",
     "status": "completed"
    },
    "tags": []
   },
   "outputs": [],
   "source": [
    "from sklearn.preprocessing import StandardScaler\n",
    "ss = StandardScaler()\n",
    "\n",
    "x_train_transform = ss.fit_transform(x_train)\n",
    "x_test_transform = ss.transform(x_test)"
   ]
  },
  {
   "cell_type": "code",
   "execution_count": 10,
   "id": "0f35f096",
   "metadata": {
    "execution": {
     "iopub.execute_input": "2022-10-12T18:25:26.846812Z",
     "iopub.status.busy": "2022-10-12T18:25:26.845600Z",
     "iopub.status.idle": "2022-10-12T18:25:26.863165Z",
     "shell.execute_reply": "2022-10-12T18:25:26.862060Z"
    },
    "papermill": {
     "duration": 0.027441,
     "end_time": "2022-10-12T18:25:26.865948",
     "exception": false,
     "start_time": "2022-10-12T18:25:26.838507",
     "status": "completed"
    },
    "tags": []
   },
   "outputs": [
    {
     "data": {
      "text/plain": [
       "BernoulliNB()"
      ]
     },
     "execution_count": 10,
     "metadata": {},
     "output_type": "execute_result"
    }
   ],
   "source": [
    "from sklearn.naive_bayes import BernoulliNB\n",
    "\n",
    "bn = BernoulliNB()\n",
    "\n",
    "bn.fit(x_train_transform, y_train)"
   ]
  },
  {
   "cell_type": "code",
   "execution_count": 11,
   "id": "fcae72ac",
   "metadata": {
    "execution": {
     "iopub.execute_input": "2022-10-12T18:25:26.880340Z",
     "iopub.status.busy": "2022-10-12T18:25:26.879907Z",
     "iopub.status.idle": "2022-10-12T18:25:26.888075Z",
     "shell.execute_reply": "2022-10-12T18:25:26.886955Z"
    },
    "papermill": {
     "duration": 0.018265,
     "end_time": "2022-10-12T18:25:26.890522",
     "exception": false,
     "start_time": "2022-10-12T18:25:26.872257",
     "status": "completed"
    },
    "tags": []
   },
   "outputs": [
    {
     "data": {
      "text/plain": [
       "array([0, 0, 0, 0, 0, 0, 0, 0, 0, 0, 0, 0, 0, 0, 0, 0, 0, 0, 0, 0, 0, 0,\n",
       "       0, 0, 0, 0, 0, 0, 0, 0, 0, 0, 0, 0, 0, 0, 0, 0, 0, 0, 0, 0, 0, 0,\n",
       "       0, 0, 0, 0, 0, 0, 0, 0, 0, 0, 0, 0, 0, 0, 0, 0, 0])"
      ]
     },
     "execution_count": 11,
     "metadata": {},
     "output_type": "execute_result"
    }
   ],
   "source": [
    "y_pred = bn.predict(x_test_transform)\n",
    "y_pred"
   ]
  },
  {
   "cell_type": "code",
   "execution_count": 12,
   "id": "eba4ea73",
   "metadata": {
    "execution": {
     "iopub.execute_input": "2022-10-12T18:25:26.904754Z",
     "iopub.status.busy": "2022-10-12T18:25:26.904326Z",
     "iopub.status.idle": "2022-10-12T18:25:26.910794Z",
     "shell.execute_reply": "2022-10-12T18:25:26.909795Z"
    },
    "papermill": {
     "duration": 0.016628,
     "end_time": "2022-10-12T18:25:26.913233",
     "exception": false,
     "start_time": "2022-10-12T18:25:26.896605",
     "status": "completed"
    },
    "tags": []
   },
   "outputs": [
    {
     "data": {
      "text/plain": [
       "array([0, 1, 1, 0, 0, 0, 0, 0, 0, 0, 0, 0, 0, 0, 0, 0, 0, 0, 0, 0, 0, 1,\n",
       "       0, 0, 0, 0, 0, 0, 0, 0, 1, 1, 0, 0, 0, 0, 0, 0, 0, 0, 0, 0, 1, 1,\n",
       "       0, 0, 1, 1, 0, 0, 0, 0, 1, 0, 0, 0, 0, 0, 0, 0, 0])"
      ]
     },
     "execution_count": 12,
     "metadata": {},
     "output_type": "execute_result"
    }
   ],
   "source": [
    "y_test.values"
   ]
  },
  {
   "cell_type": "code",
   "execution_count": 13,
   "id": "118c0154",
   "metadata": {
    "execution": {
     "iopub.execute_input": "2022-10-12T18:25:26.929043Z",
     "iopub.status.busy": "2022-10-12T18:25:26.928178Z",
     "iopub.status.idle": "2022-10-12T18:25:26.939683Z",
     "shell.execute_reply": "2022-10-12T18:25:26.937995Z"
    },
    "papermill": {
     "duration": 0.022226,
     "end_time": "2022-10-12T18:25:26.942958",
     "exception": false,
     "start_time": "2022-10-12T18:25:26.920732",
     "status": "completed"
    },
    "tags": []
   },
   "outputs": [
    {
     "name": "stdout",
     "output_type": "stream",
     "text": [
      "Confusion Matrix:\n",
      "[[51  0]\n",
      " [10  0]]\n"
     ]
    }
   ],
   "source": [
    "from sklearn.metrics import confusion_matrix\n",
    "cm = confusion_matrix(y_test, y_pred)\n",
    "print('Confusion Matrix:')\n",
    "print(cm)"
   ]
  },
  {
   "cell_type": "code",
   "execution_count": 14,
   "id": "45076d55",
   "metadata": {
    "execution": {
     "iopub.execute_input": "2022-10-12T18:25:26.958382Z",
     "iopub.status.busy": "2022-10-12T18:25:26.957970Z",
     "iopub.status.idle": "2022-10-12T18:25:26.965564Z",
     "shell.execute_reply": "2022-10-12T18:25:26.964288Z"
    },
    "papermill": {
     "duration": 0.018388,
     "end_time": "2022-10-12T18:25:26.968679",
     "exception": false,
     "start_time": "2022-10-12T18:25:26.950291",
     "status": "completed"
    },
    "tags": []
   },
   "outputs": [
    {
     "name": "stdout",
     "output_type": "stream",
     "text": [
      "True Positive Values: 51\n",
      "False Negative Values: 0\n",
      "False Positives Values: 10\n",
      "True Negative Values: 0\n"
     ]
    }
   ],
   "source": [
    "print('True Positive Values: {}'.format(cm[0][0]))\n",
    "print('False Negative Values: {}'.format(cm[0][1]))\n",
    "print('False Positives Values: {}'.format(cm[1][0]))\n",
    "print('True Negative Values: {}'.format(cm[1][1]))"
   ]
  },
  {
   "cell_type": "code",
   "execution_count": 15,
   "id": "9cae8bd8",
   "metadata": {
    "execution": {
     "iopub.execute_input": "2022-10-12T18:25:26.983837Z",
     "iopub.status.busy": "2022-10-12T18:25:26.983082Z",
     "iopub.status.idle": "2022-10-12T18:25:26.990182Z",
     "shell.execute_reply": "2022-10-12T18:25:26.988862Z"
    },
    "papermill": {
     "duration": 0.018056,
     "end_time": "2022-10-12T18:25:26.993416",
     "exception": false,
     "start_time": "2022-10-12T18:25:26.975360",
     "status": "completed"
    },
    "tags": []
   },
   "outputs": [
    {
     "name": "stdout",
     "output_type": "stream",
     "text": [
      "Actual Total Positives: 51\n",
      "Actual Total Negatives: 10\n"
     ]
    }
   ],
   "source": [
    "print('Actual Total Positives: {}'.format(cm[0][0] + cm[0][1]))\n",
    "print('Actual Total Negatives: {}'.format(cm[1][0] + cm[1][1]))"
   ]
  },
  {
   "cell_type": "code",
   "execution_count": 16,
   "id": "d2b03176",
   "metadata": {
    "execution": {
     "iopub.execute_input": "2022-10-12T18:25:27.008607Z",
     "iopub.status.busy": "2022-10-12T18:25:27.008163Z",
     "iopub.status.idle": "2022-10-12T18:25:27.015188Z",
     "shell.execute_reply": "2022-10-12T18:25:27.013906Z"
    },
    "papermill": {
     "duration": 0.018587,
     "end_time": "2022-10-12T18:25:27.018520",
     "exception": false,
     "start_time": "2022-10-12T18:25:26.999933",
     "status": "completed"
    },
    "tags": []
   },
   "outputs": [
    {
     "name": "stdout",
     "output_type": "stream",
     "text": [
      "Predicted Total Positives: 61\n",
      "Predicted Total Negatives: 0\n"
     ]
    }
   ],
   "source": [
    "print('Predicted Total Positives: {}'.format(cm[0][0] + cm[1][0]))\n",
    "print('Predicted Total Negatives: {}'.format(cm[0][1] + cm[1][1]))"
   ]
  },
  {
   "cell_type": "code",
   "execution_count": 17,
   "id": "e77d11c5",
   "metadata": {
    "execution": {
     "iopub.execute_input": "2022-10-12T18:25:27.034063Z",
     "iopub.status.busy": "2022-10-12T18:25:27.033664Z",
     "iopub.status.idle": "2022-10-12T18:25:27.041227Z",
     "shell.execute_reply": "2022-10-12T18:25:27.039875Z"
    },
    "papermill": {
     "duration": 0.017997,
     "end_time": "2022-10-12T18:25:27.043896",
     "exception": false,
     "start_time": "2022-10-12T18:25:27.025899",
     "status": "completed"
    },
    "tags": []
   },
   "outputs": [
    {
     "name": "stdout",
     "output_type": "stream",
     "text": [
      "Accuracy For Multivariate Bernoulli:  83.60655737704919\n"
     ]
    }
   ],
   "source": [
    "from sklearn.metrics import accuracy_score \n",
    "print (\"Accuracy For Multivariate Bernoulli: \", accuracy_score(y_test, y_pred) * 100)"
   ]
  }
 ],
 "metadata": {
  "kernelspec": {
   "display_name": "Python 3 (ipykernel)",
   "language": "python",
   "name": "python3"
  },
  "language_info": {
   "codemirror_mode": {
    "name": "ipython",
    "version": 3
   },
   "file_extension": ".py",
   "mimetype": "text/x-python",
   "name": "python",
   "nbconvert_exporter": "python",
   "pygments_lexer": "ipython3",
   "version": "3.9.12"
  },
  "papermill": {
   "default_parameters": {},
   "duration": 13.613398,
   "end_time": "2022-10-12T18:25:27.873851",
   "environment_variables": {},
   "exception": null,
   "input_path": "__notebook__.ipynb",
   "output_path": "__notebook__.ipynb",
   "parameters": {},
   "start_time": "2022-10-12T18:25:14.260453",
   "version": "2.3.4"
  }
 },
 "nbformat": 4,
 "nbformat_minor": 5
}
